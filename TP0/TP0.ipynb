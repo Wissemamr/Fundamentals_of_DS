{
  "cells": [
    {
      "cell_type": "markdown",
      "metadata": {
        "id": "F9I5uqu1gZE3"
      },
      "source": [
        "### <u>TP0 : Numpy manipulation </u> <br>\n",
        "- Numpy arrays\n",
        "- Random number generation\n",
        "- Boolean indexing and filtering\n",
        "- Statistical operations\n",
        "- Broadcasting and Vectorization\n",
        "- File I/O\n"
      ]
    },
    {
      "cell_type": "code",
      "execution_count": 193,
      "metadata": {
        "colab": {
          "base_uri": "https://localhost:8080/"
        },
        "id": "FwpWV0neh9tK",
        "outputId": "38e10ac2-95c7-4cc7-e590-5526f893493b"
      },
      "outputs": [
        {
          "name": "stdout",
          "output_type": "stream",
          "text": [
            "1.24.1\n"
          ]
        }
      ],
      "source": [
        "import numpy as np\n",
        "print(np.__version__)"
      ]
    },
    {
      "cell_type": "markdown",
      "metadata": {
        "id": "-g9cELDPtqNi"
      },
      "source": [
        "## <u> EXERCICE 2 :"
      ]
    },
    {
      "cell_type": "markdown",
      "metadata": {
        "id": "HsHOhMgGhsJ5"
      },
      "source": [
        "### 1. Array creation and manipulation :\n"
      ]
    },
    {
      "cell_type": "code",
      "execution_count": 194,
      "metadata": {
        "colab": {
          "base_uri": "https://localhost:8080/"
        },
        "id": "3K6Ax723gU7y",
        "outputId": "22f51486-d53f-4532-822a-bdda6e50e5fa"
      },
      "outputs": [
        {
          "data": {
            "text/plain": [
              "array([0, 1, 2, 3, 4, 5, 6, 7, 8, 9])"
            ]
          },
          "execution_count": 194,
          "metadata": {},
          "output_type": "execute_result"
        }
      ],
      "source": [
        "# Create a 1D array with values ranging from 0 to 9\n",
        "arr1 = np.arange(10)\n",
        "arr1"
      ]
    },
    {
      "cell_type": "code",
      "execution_count": 195,
      "metadata": {
        "colab": {
          "base_uri": "https://localhost:8080/"
        },
        "id": "81SoYyb-jM5w",
        "outputId": "f3d0eafc-1379-467d-d7bb-121874e30f8f"
      },
      "outputs": [
        {
          "data": {
            "text/plain": [
              "array([[0., 0., 0., 0.],\n",
              "       [0., 0., 0., 0.],\n",
              "       [0., 0., 0., 0.]])"
            ]
          },
          "execution_count": 195,
          "metadata": {},
          "output_type": "execute_result"
        }
      ],
      "source": [
        " # Create a 2D array with shape (3, 4) filled with zeros.\n",
        "arr2 = np.zeros((3,4))\n",
        "arr2"
      ]
    },
    {
      "cell_type": "code",
      "execution_count": 196,
      "metadata": {
        "colab": {
          "base_uri": "https://localhost:8080/"
        },
        "id": "S7eiHZyKjNiP",
        "outputId": "dafea301-d820-497d-f5ec-f0f16d2fb4ce"
      },
      "outputs": [
        {
          "data": {
            "text/plain": [
              "array([0.        , 0.11111111, 0.22222222, 0.33333333, 0.44444444,\n",
              "       0.55555556, 0.66666667, 0.77777778, 0.88888889, 1.        ])"
            ]
          },
          "execution_count": 196,
          "metadata": {},
          "output_type": "execute_result"
        }
      ],
      "source": [
        "# Create an array with 10 equally spaced values between 0 and 1\n",
        "arr3 = np.linspace(0, 1, 10)\n",
        "arr3"
      ]
    },
    {
      "cell_type": "code",
      "execution_count": 197,
      "metadata": {
        "colab": {
          "base_uri": "https://localhost:8080/"
        },
        "id": "mzbl5JsOjNo3",
        "outputId": "ec56f94d-a507-4012-bf13-84d71b0520b1"
      },
      "outputs": [
        {
          "name": "stdout",
          "output_type": "stream",
          "text": [
            "[[0.01280466 0.83207762 0.37039241]\n",
            " [0.15922325 0.08949329 0.7705805 ]\n",
            " [0.6664579  0.48319638 0.27722296]]\n"
          ]
        }
      ],
      "source": [
        "# Create a random 3x3 matrix with values between 0 and 1\n",
        "arr4 = np.random.rand(3,3)\n",
        "print(arr4)"
      ]
    },
    {
      "cell_type": "code",
      "execution_count": 198,
      "metadata": {
        "colab": {
          "base_uri": "https://localhost:8080/"
        },
        "id": "Z8gMf0d4jNvr",
        "outputId": "d7f026db-31a0-4094-f310-13cb62df357a"
      },
      "outputs": [
        {
          "data": {
            "text/plain": [
              "array([10, 12, 14, 16, 18, 20, 22, 24, 26, 28, 30, 32, 34, 36, 38, 40, 42,\n",
              "       44, 46, 48])"
            ]
          },
          "execution_count": 198,
          "metadata": {},
          "output_type": "execute_result"
        }
      ],
      "source": [
        "# Create an array with all even integers between 10 and 50.\n",
        "arr5 = np.arange(10, 50, 2 )# specify the step 2 for even numbers\n",
        "arr5"
      ]
    },
    {
      "cell_type": "code",
      "execution_count": 199,
      "metadata": {
        "colab": {
          "base_uri": "https://localhost:8080/"
        },
        "id": "NcIB_8qijN2K",
        "outputId": "1aa2d4d4-0201-430e-c4df-8b44d7017b6b"
      },
      "outputs": [
        {
          "data": {
            "text/plain": [
              "array([[1., 0., 0., 0., 0.],\n",
              "       [0., 1., 0., 0., 0.],\n",
              "       [0., 0., 1., 0., 0.],\n",
              "       [0., 0., 0., 1., 0.],\n",
              "       [0., 0., 0., 0., 1.]])"
            ]
          },
          "execution_count": 199,
          "metadata": {},
          "output_type": "execute_result"
        }
      ],
      "source": [
        "#  Create a 5x5 identity matrix.\n",
        "arr6 = np.identity(5)\n",
        "arr6"
      ]
    },
    {
      "cell_type": "code",
      "execution_count": 200,
      "metadata": {
        "colab": {
          "base_uri": "https://localhost:8080/"
        },
        "id": "ki5r3RKmOqsJ",
        "outputId": "6cc0b96c-dc1f-4498-8224-456f5775d7f4"
      },
      "outputs": [
        {
          "data": {
            "text/plain": [
              "array([  1.        ,   1.27427499,   1.62377674,   2.06913808,\n",
              "         2.6366509 ,   3.35981829,   4.2813324 ,   5.45559478,\n",
              "         6.95192796,   8.8586679 ,  11.28837892,  14.38449888,\n",
              "        18.32980711,  23.35721469,  29.76351442,  37.92690191,\n",
              "        48.32930239,  61.58482111,  78.47599704, 100.        ])"
            ]
          },
          "execution_count": 200,
          "metadata": {},
          "output_type": "execute_result"
        }
      ],
      "source": [
        "#  Create an array with 20 logarithmically spaced values between 1 and 100\n",
        "# log in base 10 : log(x) = ln(x)/ ln(10)\n",
        "arr7 = np.logspace(0, 2, 20) # log(1)= 0 and log(100)=2 , 20 values\n",
        "arr7"
      ]
    },
    {
      "cell_type": "code",
      "execution_count": 201,
      "metadata": {
        "colab": {
          "base_uri": "https://localhost:8080/"
        },
        "id": "t5Mra6JqOrdC",
        "outputId": "90820549-0221-4914-d470-daf7b55ecc33"
      },
      "outputs": [
        {
          "data": {
            "text/plain": [
              "array([[0, 1, 2, 3, 4],\n",
              "       [5, 6, 7, 8, 9]])"
            ]
          },
          "execution_count": 201,
          "metadata": {},
          "output_type": "execute_result"
        }
      ],
      "source": [
        "# Reshape a 1D array into a 2D array of shape (2, 5)\n",
        "arr8 = np.array([0, 1, 2, 3, 4, 5, 6, 7, 8, 9]) # The array has to have 2*5 elements\n",
        "np.reshape(arr8, (2, 5))"
      ]
    },
    {
      "cell_type": "code",
      "execution_count": 202,
      "metadata": {
        "colab": {
          "base_uri": "https://localhost:8080/"
        },
        "id": "flC0ysQ9Orn2",
        "outputId": "010047aa-580a-4acd-9648-3d3c2efd49c5"
      },
      "outputs": [
        {
          "data": {
            "text/plain": [
              "array([[0, 4],\n",
              "       [1, 5],\n",
              "       [2, 6],\n",
              "       [3, 7]])"
            ]
          },
          "execution_count": 202,
          "metadata": {},
          "output_type": "execute_result"
        }
      ],
      "source": [
        "# Transpose a 2D array\n",
        "arr9 = np.array([[0, 1, 2, 3], [4, 5, 6, 7]])\n",
        "arr31=arr9.T\n",
        "arr31"
      ]
    },
    {
      "cell_type": "code",
      "execution_count": 203,
      "metadata": {
        "colab": {
          "base_uri": "https://localhost:8080/"
        },
        "id": "q3wc_3JNOr1w",
        "outputId": "e8c63bde-12ab-40fd-e434-71c564bed931"
      },
      "outputs": [
        {
          "data": {
            "text/plain": [
              "array([1, 3, 5, 7])"
            ]
          },
          "execution_count": 203,
          "metadata": {},
          "output_type": "execute_result"
        }
      ],
      "source": [
        "# Extract all odd numbers from an array using boolean indexing\n",
        "arr10 = np.array([[0, 1, 2, 3], [4, 5, 6, 7]])\n",
        "arr10[arr10%2 != 0] # fancy indexing"
      ]
    },
    {
      "cell_type": "markdown",
      "metadata": {
        "id": "gTPYYsaaPvSY"
      },
      "source": [
        "### 2. Array operations :"
      ]
    },
    {
      "cell_type": "code",
      "execution_count": 204,
      "metadata": {
        "colab": {
          "base_uri": "https://localhost:8080/"
        },
        "id": "x2GHUuq1Pq8T",
        "outputId": "877ffb5a-75aa-4bc9-98a6-50c5b4971af3"
      },
      "outputs": [
        {
          "data": {
            "text/plain": [
              "array([[10, 13, 11],\n",
              "       [14,  4,  5],\n",
              "       [13,  3,  4]])"
            ]
          },
          "execution_count": 204,
          "metadata": {},
          "output_type": "execute_result"
        }
      ],
      "source": [
        "#  Add two matrices element-wise.\n",
        "mat1 = np.array([[1, 5, 4],\n",
        "                   [6, 0, 5],\n",
        "                   [6, 1, 0]])\n",
        "mat2 = np.array([[9, 8, 7],\n",
        "                   [8, 4, 0],\n",
        "                   [7, 2, 4]])\n",
        "mat1 + mat2"
      ]
    },
    {
      "cell_type": "code",
      "execution_count": 205,
      "metadata": {
        "colab": {
          "base_uri": "https://localhost:8080/"
        },
        "id": "983KtTELPrH5",
        "outputId": "07cfee4e-5055-4b5f-c0e3-60683a58e09b"
      },
      "outputs": [
        {
          "data": {
            "text/plain": [
              "array([[77, 36, 23],\n",
              "       [89, 58, 62]])"
            ]
          },
          "execution_count": 205,
          "metadata": {},
          "output_type": "execute_result"
        }
      ],
      "source": [
        "# Multiply two matrices using matrix multiplication\n",
        "# (2,3) * (3,3) = (2,3)\n",
        "mat3 = np.array([[1, 5, 4],\n",
        "                   [6, 0, 5]])\n",
        "mat4 = np.array([[9, 8, 7],\n",
        "                   [8, 4, 0],\n",
        "                   [7, 2, 4]])\n",
        "mat5 = np.matmul(mat3 , mat4)\n",
        "mat5"
      ]
    },
    {
      "cell_type": "code",
      "execution_count": 206,
      "metadata": {
        "colab": {
          "base_uri": "https://localhost:8080/"
        },
        "id": "rDK6jtECP9z0",
        "outputId": "a93ee5d1-8876-4d4d-8d18-77a4fca33974"
      },
      "outputs": [
        {
          "name": "stdout",
          "output_type": "stream",
          "text": [
            "3.8\n",
            "3.5\n",
            "3.026549190084311\n"
          ]
        }
      ],
      "source": [
        "#  Calculate the mean, median, and standard deviation of an array.\n",
        "arr11 = np.array([9, 8, 5, 6, 1, 0, 3, 2, 0, 4])\n",
        "print(np.mean(arr11))\n",
        "print(np.median(arr11))\n",
        "print(np.std(arr11))"
      ]
    },
    {
      "cell_type": "code",
      "execution_count": 207,
      "metadata": {
        "colab": {
          "base_uri": "https://localhost:8080/"
        },
        "id": "0-6Sps0xP9-U",
        "outputId": "660d4587-151c-4b05-fe7d-6a1aa28882a4"
      },
      "outputs": [
        {
          "data": {
            "text/plain": [
              "array([24, 14, 11])"
            ]
          },
          "execution_count": 207,
          "metadata": {},
          "output_type": "execute_result"
        }
      ],
      "source": [
        "#  Find the sum of each column in a 2D array\n",
        "arr12 = np.array([[9, 8, 7],\n",
        "                   [8, 4, 0],\n",
        "                   [7, 2, 4]])\n",
        "np.sum(arr12, axis=0) #rowa axis 0 and columns axis 1"
      ]
    },
    {
      "cell_type": "code",
      "execution_count": 208,
      "metadata": {
        "colab": {
          "base_uri": "https://localhost:8080/"
        },
        "id": "nf-k7ejJP-JK",
        "outputId": "c86c16a4-c96a-4db9-cb79-e10d814c51f3"
      },
      "outputs": [
        {
          "data": {
            "text/plain": [
              "32"
            ]
          },
          "execution_count": 208,
          "metadata": {},
          "output_type": "execute_result"
        }
      ],
      "source": [
        "# Calculate the dot product of two 1D arrays\n",
        "arr13 = np.array([1, 2, 3])\n",
        "arr14 = np.array([4, 5, 6])\n",
        "np.dot(arr13, arr14)"
      ]
    },
    {
      "cell_type": "code",
      "execution_count": 209,
      "metadata": {
        "colab": {
          "base_uri": "https://localhost:8080/"
        },
        "id": "Cawq89pYP-WS",
        "outputId": "2af3042c-8398-40bd-8bc1-75e9777ce686"
      },
      "outputs": [
        {
          "name": "stdout",
          "output_type": "stream",
          "text": [
            "WITH SOFTMAX : \n",
            "  [2.34876035e-04 6.38459258e-04 1.73551220e-03 4.71761127e-03\n",
            " 3.48586944e-02 8.64060645e-05 2.57572848e-01 7.00155593e-01]\n",
            "\n",
            "WITH SIGMOID : \n",
            "  [0.73105858 0.88079708 0.95257413 0.98201379 0.99752738 0.5\n",
            " 0.99966465 0.99987661]\n",
            "\n",
            "WITH L2 NORM : \n",
            " [0.06884284 0.13768568 0.20652852 0.27537136 0.41305703 0.\n",
            " 0.55074271 0.61958555]\n",
            "\n",
            "WITH Z-SCORE NORM : \n",
            " [1.02147231 0.69460117 0.36773003 0.04085889 0.61288338 1.34834345\n",
            " 1.26662566 1.5934968 ]\n"
          ]
        }
      ],
      "source": [
        "#  Normalize the values in an array between 0 and 1\n",
        "\n",
        "def softmax(x):\n",
        "    return(np.exp(x)/np.exp(x).sum())\n",
        "\n",
        "\n",
        "def sigmoid(x):\n",
        "    return 1 / (1 + np.exp(-x))\n",
        "\n",
        "\n",
        "def normalize_l2(x):\n",
        "    norm = np.linalg.norm(x)\n",
        "    if norm == 0:\n",
        "        return x\n",
        "    return x / norm\n",
        "\n",
        "def z_score_normalization(x):\n",
        "    mean = np.mean(x)\n",
        "    std = np.std(x)\n",
        "    if std == 0:\n",
        "        return x\n",
        "    return abs(x - mean) / std\n",
        "\n",
        "arr14 = np.array([1, 2, 3, 4, 6, 0, 8, 9])\n",
        "print( 'WITH SOFTMAX : \\n ', softmax(arr14))\n",
        "print()\n",
        "print( 'WITH SIGMOID : \\n ', sigmoid(arr14))\n",
        "print()\n",
        "print( 'WITH L2 NORM : \\n', normalize_l2(arr14))\n",
        "print()\n",
        "print( 'WITH Z-SCORE NORM : \\n', z_score_normalization(arr14))"
      ]
    },
    {
      "cell_type": "code",
      "execution_count": 210,
      "metadata": {
        "colab": {
          "base_uri": "https://localhost:8080/"
        },
        "id": "E32dtIHVP-f4",
        "outputId": "fb12414d-e97b-4bc8-93b8-da4c8a2e8b70"
      },
      "outputs": [
        {
          "data": {
            "text/plain": [
              "5"
            ]
          },
          "execution_count": 210,
          "metadata": {},
          "output_type": "execute_result"
        }
      ],
      "source": [
        "#  Find the index of the maximum value in an array\n",
        "arr15 = np.array([8,9,7,6,4,15,0])\n",
        "np.argmax(arr15) # or np.argsort(arr15)[0]"
      ]
    },
    {
      "cell_type": "code",
      "execution_count": 211,
      "metadata": {
        "colab": {
          "base_uri": "https://localhost:8080/"
        },
        "id": "KomUhf1kP-qP",
        "outputId": "563eeefd-3bac-43e7-b3bf-74967aede564"
      },
      "outputs": [
        {
          "data": {
            "text/plain": [
              "array([2., 5., 0., 0., 0., 4., 0., 0.])"
            ]
          },
          "execution_count": 211,
          "metadata": {},
          "output_type": "execute_result"
        }
      ],
      "source": [
        "# Replace all negative values in an array with zeros.\n",
        "arr16 = np.array([2, 5, -7, 0, -1, 4, -1, -0.001])\n",
        "arr16[arr16 < 0] = 0\n",
        "arr16"
      ]
    },
    {
      "cell_type": "code",
      "execution_count": 212,
      "metadata": {
        "colab": {
          "base_uri": "https://localhost:8080/"
        },
        "id": "iOlIBZpfPrLJ",
        "outputId": "68dcd576-1179-43e5-c334-ab73fd646c6f"
      },
      "outputs": [
        {
          "data": {
            "text/plain": [
              "array([ 6,  0, 27, 10, 24])"
            ]
          },
          "execution_count": 212,
          "metadata": {},
          "output_type": "execute_result"
        }
      ],
      "source": [
        "#  Calculate the element-wise product of two arrays\n",
        "arr17 = np.array([1, 0, 9, 5, 4])\n",
        "arr17_= np.array([6, 7, 3, 2, 6])\n",
        "\n",
        "arr18 = arr17 * arr17_\n",
        "arr18\n"
      ]
    },
    {
      "cell_type": "code",
      "execution_count": 213,
      "metadata": {
        "colab": {
          "base_uri": "https://localhost:8080/"
        },
        "id": "r9RxtSkIPrUr",
        "outputId": "39793254-7fa4-40a7-c4f9-ae9bd4ec0592"
      },
      "outputs": [
        {
          "data": {
            "text/plain": [
              "array([ 1.        ,  0.        ,  3.        ,  2.23606798,  2.        ,\n",
              "       13.        ])"
            ]
          },
          "execution_count": 213,
          "metadata": {},
          "output_type": "execute_result"
        }
      ],
      "source": [
        "# Calculate the element-wise square root of an array\n",
        "arr19 = np.array([1, 0, 9, 5, 4, 169])\n",
        "np.sqrt(arr19)"
      ]
    },
    {
      "cell_type": "markdown",
      "metadata": {
        "id": "bs-twZO7P_hN"
      },
      "source": [
        "### 3. Indexing and slicing :"
      ]
    },
    {
      "cell_type": "code",
      "execution_count": 214,
      "metadata": {
        "colab": {
          "base_uri": "https://localhost:8080/"
        },
        "id": "iScdFnQJQG8-",
        "outputId": "4948a70f-5888-49ae-fd45-f40e282d9426"
      },
      "outputs": [
        {
          "data": {
            "text/plain": [
              "array([0, 5, 3])"
            ]
          },
          "execution_count": 214,
          "metadata": {},
          "output_type": "execute_result"
        }
      ],
      "source": [
        "# Slice a 2D array to extract the second column.\n",
        "arr20 = np.array([[3, 0, 9, 4, 3], [5, 5, 3, 8, 1], [0, 3, 2, 1, 0]])\n",
        "arr20[: , 1]"
      ]
    },
    {
      "cell_type": "code",
      "execution_count": 215,
      "metadata": {
        "colab": {
          "base_uri": "https://localhost:8080/"
        },
        "id": "nmnDwEhyQHJZ",
        "outputId": "ed9dc837-b58e-4152-f6b0-b7290b06eae1"
      },
      "outputs": [
        {
          "data": {
            "text/plain": [
              "array([1, 5, 9])"
            ]
          },
          "execution_count": 215,
          "metadata": {},
          "output_type": "execute_result"
        }
      ],
      "source": [
        "# Get the diagonal elements of a 2D array\n",
        "arr21 =  np.array([[1, 2, 3],[4, 5, 6],[7, 8, 9]])\n",
        "#np.diag(arr21) # for general matices\n",
        "arr21[np.arange(arr21.shape[0]), np.arange(arr21.shape[1])] # gotta be a square matrix"
      ]
    },
    {
      "cell_type": "code",
      "execution_count": 216,
      "metadata": {
        "colab": {
          "base_uri": "https://localhost:8080/"
        },
        "id": "2sYGP6TlQHZ8",
        "outputId": "d4e7dbf9-c54c-4614-c58b-ee6bda579140"
      },
      "outputs": [
        {
          "name": "stdout",
          "output_type": "stream",
          "text": [
            "[[6 7 3 2 6]]\n"
          ]
        }
      ],
      "source": [
        "# Select rows from a 2D array where the sum of elements is greater than a threshold\n",
        "arr22 =  np.array([[1, 0, 9, 5, 4],[6, 7, 3, 2, 6],[4, 1, 2, 2, 0]])\n",
        "thr : int = 20\n",
        "print(arr22[np.sum(arr22, axis=1)> thr])"
      ]
    },
    {
      "cell_type": "code",
      "execution_count": 217,
      "metadata": {
        "colab": {
          "base_uri": "https://localhost:8080/"
        },
        "id": "OsEoESfkQHkr",
        "outputId": "38a0b829-bc8a-4677-b751-d86e8e8cbeac"
      },
      "outputs": [
        {
          "data": {
            "text/plain": [
              "array([[4, 1, 2, 2, 0],\n",
              "       [6, 7, 3, 2, 6],\n",
              "       [1, 0, 9, 5, 4]])"
            ]
          },
          "execution_count": 217,
          "metadata": {},
          "output_type": "execute_result"
        }
      ],
      "source": [
        "# Reverse the rows of a 2D array.\n",
        "arr23 = np.array([[1, 0, 9, 5, 4],[6, 7, 3, 2, 6],[4, 1, 2, 2, 0]])\n",
        "arr23[::-1]"
      ]
    },
    {
      "cell_type": "code",
      "execution_count": 218,
      "metadata": {
        "colab": {
          "base_uri": "https://localhost:8080/"
        },
        "id": "Jj6RlpKsQHwI",
        "outputId": "72eaf9db-ecbd-4a3b-8003-1bd80e39349e"
      },
      "outputs": [
        {
          "data": {
            "text/plain": [
              "array([7, 2, 9, 3])"
            ]
          },
          "execution_count": 218,
          "metadata": {},
          "output_type": "execute_result"
        }
      ],
      "source": [
        "# Get the elements at odd indices of a 1D array.\n",
        "arr24= np.array([6, 7, 3, 2, 6, 9, 5, 3, 1])\n",
        "#arr24[np.arange(arr24.shape[0], 2)]\n",
        "arr24[1::2]"
      ]
    },
    {
      "cell_type": "markdown",
      "metadata": {
        "id": "jOnWLXsRQID1"
      },
      "source": [
        "### 4. Random Number Generation:\n"
      ]
    },
    {
      "cell_type": "code",
      "execution_count": 219,
      "metadata": {
        "colab": {
          "base_uri": "https://localhost:8080/"
        },
        "id": "cMGp6lB1sfHh",
        "outputId": "989cc16d-17da-49db-aa2a-96708d94ab48"
      },
      "outputs": [
        {
          "data": {
            "text/plain": [
              "array([ 39,  89,  78,  35,  41,  94,  20,  99,  68, 100])"
            ]
          },
          "execution_count": 219,
          "metadata": {},
          "output_type": "execute_result"
        }
      ],
      "source": [
        "# Generate an array of 10 random integers between 1 and 100.\n",
        "np.random.randint(1, 101, 10)"
      ]
    },
    {
      "cell_type": "code",
      "execution_count": 220,
      "metadata": {
        "colab": {
          "base_uri": "https://localhost:8080/"
        },
        "id": "yuUSBg5CsxsG",
        "outputId": "b760f48c-1508-4cfd-fff1-d15d54c4b1fa"
      },
      "outputs": [
        {
          "data": {
            "text/plain": [
              "array([[-1.04400774, -0.59589752,  0.15722473, -0.04672728,  0.51327121],\n",
              "       [ 0.76351548,  1.59697753, -1.60634925, -0.59219121, -0.26548132],\n",
              "       [ 1.47517259, -0.40770814, -1.54759075, -0.44102274, -1.03618388],\n",
              "       [-0.62277952,  0.23460487,  1.4773781 ,  0.20766675, -0.80701169],\n",
              "       [-0.59147802, -0.11670285, -0.107949  ,  1.49268221,  0.6064834 ]])"
            ]
          },
          "execution_count": 220,
          "metadata": {},
          "output_type": "execute_result"
        }
      ],
      "source": [
        "# Create a random 5x5 matrix with values from a normal distribution.\n",
        "mean = 0\n",
        "std_dev = 1\n",
        "mat6 = np.random.normal(mean, std_dev, (5, 5))\n",
        "mat6"
      ]
    },
    {
      "cell_type": "code",
      "execution_count": 221,
      "metadata": {
        "colab": {
          "base_uri": "https://localhost:8080/"
        },
        "id": "FPqZf8Iisx78",
        "outputId": "8ddfdc7e-1fb6-482b-e51a-f1d39f539e95"
      },
      "outputs": [
        {
          "data": {
            "text/plain": [
              "array([6, 7, 6, 5, 9, 3, 3, 1, 2])"
            ]
          },
          "execution_count": 221,
          "metadata": {},
          "output_type": "execute_result"
        }
      ],
      "source": [
        "# Shuffle the elements of an array randomly\n",
        "arr25= np.array([6, 7, 3, 2, 6, 9, 5, 3, 1])\n",
        "np.random.shuffle(arr25)\n",
        "arr25"
      ]
    },
    {
      "cell_type": "code",
      "execution_count": 222,
      "metadata": {
        "colab": {
          "base_uri": "https://localhost:8080/"
        },
        "id": "43w1vieysfRX",
        "outputId": "8abc3658-5125-44dd-f3a4-6435c34a5da4"
      },
      "outputs": [
        {
          "data": {
            "text/plain": [
              "array([6, 7, 7, 2, 8, 8, 3, 6, 3, 5])"
            ]
          },
          "execution_count": 222,
          "metadata": {},
          "output_type": "execute_result"
        }
      ],
      "source": [
        "# Generate an array of random integers following a Poisson distribution\n",
        "lambda_param = 5\n",
        "np.random.poisson(lambda_param, size=10)\n"
      ]
    },
    {
      "cell_type": "code",
      "execution_count": 223,
      "metadata": {
        "colab": {
          "base_uri": "https://localhost:8080/"
        },
        "id": "COEK9VZUsfb2",
        "outputId": "11497510-87d6-4ace-9470-2f26fb315a47"
      },
      "outputs": [
        {
          "data": {
            "text/plain": [
              "array([[0.05451641, 0.80723232, 0.40901105, 0.19083473, 0.11393334],\n",
              "       [0.15820653, 0.75006962, 0.37546578, 0.12810904, 0.45794211],\n",
              "       [0.35022791, 0.45174447, 0.75023628, 0.54079864, 0.58679041],\n",
              "       [0.45730188, 0.2443421 , 0.52924452, 0.19103903, 0.24530341]])"
            ]
          },
          "execution_count": 223,
          "metadata": {},
          "output_type": "execute_result"
        }
      ],
      "source": [
        "#  Generate an array of random floats between 0 and 1 with a specified shape.\n",
        "np.random.rand(4,5)"
      ]
    },
    {
      "cell_type": "markdown",
      "metadata": {
        "id": "lOR0tza1sz6T"
      },
      "source": [
        "### 5. Boolean Indexing and Filtering: :"
      ]
    },
    {
      "cell_type": "code",
      "execution_count": 224,
      "metadata": {
        "colab": {
          "base_uri": "https://localhost:8080/"
        },
        "id": "hrmyIXzms72H",
        "outputId": "c71661e5-1bd4-429d-cd34-c6e9b135da52"
      },
      "outputs": [
        {
          "name": "stdout",
          "output_type": "stream",
          "text": [
            "[ 3  0 -3 -2  9 -5 -2]\n"
          ]
        }
      ],
      "source": [
        "# Create a new array containing only the positive values of an existing array\n",
        "arr26 = np.array([3, 0, -3, -2, 9, -5, -2])\n",
        "arr26[arr26 > 0 ]\n",
        "print(arr26)"
      ]
    },
    {
      "cell_type": "code",
      "execution_count": 225,
      "metadata": {
        "id": "vTtdeqjOtODy"
      },
      "outputs": [
        {
          "name": "stdout",
          "output_type": "stream",
          "text": [
            "[ 3  0  6  9 24 27]\n"
          ]
        }
      ],
      "source": [
        "# Find the elements in an array that are divisible by 3.\n",
        "arr27 = np.array([3, 0, 6, 7, 4, 9, 24, 5, 27])\n",
        "print(arr27[arr27 %3 == 0])"
      ]
    },
    {
      "cell_type": "code",
      "execution_count": 226,
      "metadata": {
        "id": "BtnTAMqdtOQb"
      },
      "outputs": [
        {
          "name": "stdout",
          "output_type": "stream",
          "text": [
            "[ 9 24 27]\n"
          ]
        }
      ],
      "source": [
        "# Create a mask for elements greater than a specific value in an array\n",
        "arr28 = np.array([3, 0, 6, 7, 4, 9, 24, 5, 27])\n",
        "val = 7\n",
        "print(arr28[arr28 > val])"
      ]
    },
    {
      "cell_type": "code",
      "execution_count": 227,
      "metadata": {
        "id": "Y4vrcRnAtOdJ"
      },
      "outputs": [
        {
          "name": "stdout",
          "output_type": "stream",
          "text": [
            "[13 24 27]\n"
          ]
        }
      ],
      "source": [
        "# Replace all elements greater than 10 in an array with 10.\n",
        "arr29 = np.array([3, 0, 13,6, 7, 4, 9, 24, 5, 27])\n",
        "print(arr29[arr29 > 10])"
      ]
    },
    {
      "cell_type": "code",
      "execution_count": 228,
      "metadata": {
        "id": "cCllTzvCtOoo"
      },
      "outputs": [
        {
          "name": "stdout",
          "output_type": "stream",
          "text": [
            "There are 6 elements greater than 5\n"
          ]
        }
      ],
      "source": [
        "#  Count the number of elements greater than 5 in a 2D array\n",
        "comp = 5\n",
        "arr30 = np.array([3, 0, 13,6, 7, 4, 9, 24, 5, 2, 27])\n",
        "print(f'There are {len(arr30[arr30>5])} elements greater than {comp}') "
      ]
    },
    {
      "cell_type": "markdown",
      "metadata": {
        "id": "yR7iwNjAtJtJ"
      },
      "source": [
        "### 6. Statistical Operations:\n"
      ]
    },
    {
      "cell_type": "code",
      "execution_count": 229,
      "metadata": {
        "id": "zv42oSWNs8AG"
      },
      "outputs": [
        {
          "name": "stdout",
          "output_type": "stream",
          "text": [
            "[[1.         0.06777839]\n",
            " [0.06777839 1.        ]]\n"
          ]
        }
      ],
      "source": [
        "# Calculate the correlation coefficient between two arrays\n",
        "arr31 = np.array([1, -1, 4, 7, 9, 3, -24])\n",
        "arr31_ = np.array([9, 3, 6, -2, 4, -9, 0])\n",
        "print(np.corrcoef(arr31, arr31_))"
      ]
    },
    {
      "cell_type": "code",
      "execution_count": 230,
      "metadata": {
        "id": "7ktUh-4ZtPf4"
      },
      "outputs": [
        {
          "name": "stdout",
          "output_type": "stream",
          "text": [
            "[14 15 11  2 12  9 19  7 10  5]\n",
            "(array([9]),)\n"
          ]
        }
      ],
      "source": [
        "# Find the index of the first occurrence of a specific value in an array.\n",
        "arr32 = np.random.randint(1, 20, 10)\n",
        "val = 5\n",
        "print(arr32)\n",
        "print(np.where(arr32 == val))\n"
      ]
    },
    {
      "cell_type": "code",
      "execution_count": 231,
      "metadata": {
        "id": "9lNhsVxvtPsW"
      },
      "outputs": [
        {
          "name": "stdout",
          "output_type": "stream",
          "text": [
            "[8 1 3 4 1 6 7 2 7 4]\n",
            "43\n"
          ]
        }
      ],
      "source": [
        "# Calculate the cumulative sum of a 1D array.\n",
        "arr33 = np.random.randint(1, 10, 10)\n",
        "print(arr33)\n",
        "print(arr33.sum())"
      ]
    },
    {
      "cell_type": "code",
      "execution_count": 232,
      "metadata": {
        "id": "hxhJF3j3tP6a"
      },
      "outputs": [
        {
          "name": "stdout",
          "output_type": "stream",
          "text": [
            "12.5\n"
          ]
        }
      ],
      "source": [
        "# Calculate the 75th percentile of an array.\n",
        "arr34 = np.random.randint(1, 15, 10)\n",
        "print(np.percentile(arr34, 75))"
      ]
    },
    {
      "cell_type": "code",
      "execution_count": 233,
      "metadata": {
        "id": "TZ3yTr2UtQF8"
      },
      "outputs": [
        {
          "name": "stdout",
          "output_type": "stream",
          "text": [
            "[4. 5. 6.]\n",
            "[2. 5. 8.]\n"
          ]
        }
      ],
      "source": [
        "# Calculate the mean along a specific axis of a 2D array.\n",
        "arr35 = np.array([[1, 2, 3],\n",
        "                    [4, 5, 6],\n",
        "                    [7, 8, 9]])\n",
        "\n",
        "print(np.mean(arr35, axis=0))\n",
        "print(np.mean(arr35, axis=1))"
      ]
    },
    {
      "cell_type": "markdown",
      "metadata": {
        "id": "3PbqCHDCtUMu"
      },
      "source": [
        "### 7. Broadcasting and Vectorization:\n"
      ]
    },
    {
      "cell_type": "code",
      "execution_count": 234,
      "metadata": {
        "id": "d73eMtEdtXjD"
      },
      "outputs": [
        {
          "name": "stdout",
          "output_type": "stream",
          "text": [
            "[ 1 11 10  9  7 11  1  6  6  8]\n",
            "[ 3 33 30 27 21 33  3 18 18 24]\n"
          ]
        }
      ],
      "source": [
        "# Multiply each element in an array by a scalar.\n",
        "arr36 = np.random.randint(1, 12, 10)\n",
        "scal = 3\n",
        "print(arr36)\n",
        "print(arr36 * scal)"
      ]
    },
    {
      "cell_type": "code",
      "execution_count": 235,
      "metadata": {
        "id": "DriI-TFAtXu_"
      },
      "outputs": [
        {
          "name": "stdout",
          "output_type": "stream",
          "text": [
            "[[ 6 11  3  6 15]\n",
            " [ 9 14  6  6 12]\n",
            " [12 17  9 13 10]]\n"
          ]
        }
      ],
      "source": [
        "# Add a 1D array to each row of a 2D array using broadcasting.\n",
        "arr37 = np.array([[1, 2, 3, 0, 7],\n",
        "                    [4, 5, 6, 0, 4],\n",
        "                    [7, 8, 9, 7, 2]])\n",
        "arr37_ = np.array([5, 9, 0, 6, 8])\n",
        "print( arr37 + arr37_)"
      ]
    },
    {
      "cell_type": "code",
      "execution_count": 236,
      "metadata": {
        "id": "6lN-9WQ8tX5w"
      },
      "outputs": [
        {
          "name": "stdout",
          "output_type": "stream",
          "text": [
            "[[ 5 18  0  0 56]\n",
            " [20 45  0  0 32]\n",
            " [35 72  0 42 16]]\n"
          ]
        }
      ],
      "source": [
        "# Multiply corresponding elements of two arrays with different shapes using broadcasting.\n",
        "arr38 = np.array([[1, 2, 3, 0, 7],\n",
        "                    [4, 5, 6, 0, 4],\n",
        "                    [7, 8, 9, 7, 2]])\n",
        "\n",
        "arr38_ = np.array([5, 9, 0, 6, 8])\n",
        "print(arr38 * arr38_)"
      ]
    },
    {
      "cell_type": "code",
      "execution_count": 237,
      "metadata": {
        "id": "8Ypdggd4tYDQ"
      },
      "outputs": [
        {
          "name": "stdout",
          "output_type": "stream",
          "text": [
            "[[ 0 20 30 10 20]\n",
            " [ 0 36 54 18 36]\n",
            " [ 0  0  0  0  0]\n",
            " [ 0 24 36 12 24]\n",
            " [ 0 32 48 16 32]]\n"
          ]
        }
      ],
      "source": [
        "# Calculate the outer product of two arrays.\n",
        "arr39 = np.array([5, 9, 0, 6, 8])\n",
        "arr40 = np.array([0, 4, 6, 2, 4])\n",
        "\n",
        "print(np.outer(arr39, arr40))\n",
        "\n"
      ]
    },
    {
      "cell_type": "code",
      "execution_count": 238,
      "metadata": {
        "id": "vwHS3KSStYN0"
      },
      "outputs": [
        {
          "name": "stdout",
          "output_type": "stream",
          "text": [
            "[2.23606798 3.         0.         2.44948974 2.82842712 4.\n",
            " 6.         2.        ]\n",
            "[2.23606798 3.         0.         2.44948974 2.82842712 4.\n",
            " 6.         2.        ]\n"
          ]
        }
      ],
      "source": [
        "# Apply a custom function element-wise to an array\n",
        "def square_root (x):\n",
        "    return x**0.5\n",
        "\n",
        "arr40 = np.array([5, 9, 0, 6, 8, 16, 36, 4])\n",
        "print(square_root(arr40))\n",
        "vec = np.vectorize(square_root)\n",
        " \n",
        "print(vec(arr40))"
      ]
    },
    {
      "cell_type": "markdown",
      "metadata": {
        "id": "Cl9R4NgqtbiL"
      },
      "source": [
        "### 8. File I/O:"
      ]
    },
    {
      "cell_type": "code",
      "execution_count": 239,
      "metadata": {
        "id": "nz_7IdtBtisV"
      },
      "outputs": [],
      "source": [
        "# Save a NumPy array to a text file.\n",
        "arr41 = np.array([[1, 2, 3, 0, 7],\n",
        "                    [4, 5, 6, 0, 4],\n",
        "                    [7, 8, 9, 7, 2]])\n",
        "np.savetxt('arr_to_txt', arr41, delimiter=',', fmt='%d', header='Answer to Save a NumPy array to a text file :')"
      ]
    },
    {
      "cell_type": "code",
      "execution_count": 240,
      "metadata": {
        "id": "pohgjyzkti3X"
      },
      "outputs": [
        {
          "name": "stdout",
          "output_type": "stream",
          "text": [
            "[[1. 2. 3. 0. 7.]\n",
            " [4. 5. 6. 0. 4.]\n",
            " [7. 8. 9. 7. 2.]]\n"
          ]
        }
      ],
      "source": [
        "# Load a NumPy array from a text file.\n",
        "print( np.loadtxt('arr_to_txt', delimiter=','))\n"
      ]
    },
    {
      "cell_type": "code",
      "execution_count": 241,
      "metadata": {
        "id": "KC46zKNetjDv"
      },
      "outputs": [],
      "source": [
        "# Save a NumPy array to a binary file.\n",
        "arr42 = np.array([[1, 2, 3, 0, 7],\n",
        "                    [4, 5, 6, 0, 4],\n",
        "                    [7, 8, 9, 7, 2]])\n",
        "np.save(\"arr_to_bin\", arr42)"
      ]
    },
    {
      "cell_type": "code",
      "execution_count": 242,
      "metadata": {
        "id": "ARRNUG7MtjPX"
      },
      "outputs": [
        {
          "name": "stdout",
          "output_type": "stream",
          "text": [
            "[[1 2 3 0 7]\n",
            " [4 5 6 0 4]\n",
            " [7 8 9 7 2]]\n"
          ]
        }
      ],
      "source": [
        "# Load a NumPy array from a binary file.\n",
        "print(np.load('arr_to_bin.npy'))"
      ]
    },
    {
      "cell_type": "code",
      "execution_count": 243,
      "metadata": {
        "id": "bOcB3XKRtja1"
      },
      "outputs": [],
      "source": [
        "# Save multiple arrays to a single compressed NPZ file.\n",
        "arr43 =  np.array([[1, 2, 3, 0, 7],\n",
        "                    [4, 5, 6, 0, 4],\n",
        "                    [7, 8, 9, 7, 2]])\n",
        "arr44 = np.array([5, 9, 0, 6, 8, 16, 36, 4])\n",
        "arr45 =  np.array([0, 4, 6, 2, 4])\n",
        "np.savez_compressed('npz_comp', arr1=arr43, arr2=arr44, arr3=arr45 )"
      ]
    },
    {
      "cell_type": "markdown",
      "metadata": {
        "id": "VzpV2IbSuLFZ"
      },
      "source": [
        "# <u> EXERCISE 3 :"
      ]
    },
    {
      "cell_type": "code",
      "execution_count": 244,
      "metadata": {
        "id": "wBfCHkR1uXCv"
      },
      "outputs": [
        {
          "name": "stdout",
          "output_type": "stream",
          "text": [
            "[0.5 0.8 0.9]\n",
            "\n",
            "[[1.   0.3  0.65]\n",
            " [0.5  0.8  0.9 ]\n",
            " [1.   0.3  0.65]]\n"
          ]
        }
      ],
      "source": [
        "# Create the two vectors\n",
        "V = np.array([0.5, 0.8, 0.9])\n",
        "M = np.array([[1.0, 0.3, 0.65], [0.5, 0.8, 0.9], [1.0, 0.3, 0.65]])\n",
        "print(V)\n",
        "print()\n",
        "print(M)\n"
      ]
    },
    {
      "cell_type": "code",
      "execution_count": 245,
      "metadata": {
        "id": "JWVPO4dNub6p"
      },
      "outputs": [
        {
          "data": {
            "text/plain": [
              "array([[1.5125, 1.325 , 1.5125],\n",
              "       [1.325 , 1.7   , 1.325 ],\n",
              "       [1.5125, 1.325 , 1.5125]])"
            ]
          },
          "execution_count": 245,
          "metadata": {},
          "output_type": "execute_result"
        }
      ],
      "source": [
        "# Transpose matrix M\n",
        "Mt = M.T\n",
        "G = np.matmul(M, Mt)\n",
        "G"
      ]
    },
    {
      "cell_type": "code",
      "execution_count": 246,
      "metadata": {},
      "outputs": [
        {
          "name": "stdout",
          "output_type": "stream",
          "text": [
            "The first column of M : [1.  0.5 1. ]\n",
            "The mean :  0.8333333333333334\n",
            "The max : 1.0\n",
            "The min : 0.5\n",
            "The sum :  2.5\n",
            "----------------------------------------\n",
            "The first row of M : [1.   0.3  0.65]\n",
            "The mean :  0.65\n",
            "The max : 1.0\n",
            "The min : 0.3\n",
            "The sum :  1.9500000000000002\n",
            "----------------------------------------\n",
            "The submatrix of M : [[1.  0.3]\n",
            " [0.5 0.8]] \n",
            "The mean :  0.65\n",
            "The max : 1.0\n",
            "The min : 0.3\n",
            "The sum :  2.6\n",
            "----------------------------------------\n"
          ]
        }
      ],
      "source": [
        "# Extract column1 from M\n",
        "# Extract row 1\n",
        "# sub matrix (0-2,0-2)\n",
        "#The max, min, sum, and average of each.\n",
        "col1 = M[:, 0]\n",
        "print(f'The first column of M : {col1}')\n",
        "print('The mean : ', np.mean(col1))\n",
        "print('The max :' , np.max(col1))\n",
        "print('The min :', np.min(col1))\n",
        "print('The sum : ', np.sum(col1))\n",
        "print('-'*40)\n",
        "\n",
        "row1 = M[0, :]\n",
        "print(f'The first row of M : {row1}')\n",
        "print('The mean : ', np.mean(row1))\n",
        "print('The max :' , np.max(row1))\n",
        "print('The min :', np.min(row1))\n",
        "print('The sum : ', np.sum(row1))\n",
        "print('-'*40)\n",
        "\n",
        "subM = M[0:2, 0:2]\n",
        "print(f'The submatrix of M : {subM} ')\n",
        "print('The mean : ', np.mean(subM))\n",
        "print('The max :' , np.max(subM))\n",
        "print('The min :', np.min(subM))\n",
        "print('The sum : ', np.sum(subM))\n",
        "print('-'*40)"
      ]
    },
    {
      "cell_type": "code",
      "execution_count": 247,
      "metadata": {},
      "outputs": [
        {
          "name": "stdout",
          "output_type": "stream",
          "text": [
            "[1.   0.65 0.8  0.9  1.   0.65]\n"
          ]
        }
      ],
      "source": [
        "# Extract from M: (a) diagonal matrix. (b) identity matrix, (c) values bigger than 0.5.\n",
        "diag = 0\n",
        "iden =0\n",
        "bigger = M[M > 0.5]\n",
        "print(bigger)"
      ]
    },
    {
      "cell_type": "code",
      "execution_count": 248,
      "metadata": {},
      "outputs": [
        {
          "name": "stdout",
          "output_type": "stream",
          "text": [
            "[[1.         0.3        0.65      ]\n",
            " [0.5        0.8        0.9       ]\n",
            " [1.         0.3        0.65      ]\n",
            " [0.28969685 0.83084472 0.24111905]]\n"
          ]
        }
      ],
      "source": [
        "# Insert a new row to M, and then insert a new column to M using random values.\n",
        "M = np.row_stack((M, np.random.rand(1,3)))\n",
        "print(M)\n",
        "M = np.column_stack((M, np.random.rand(4,1)))"
      ]
    },
    {
      "cell_type": "code",
      "execution_count": 249,
      "metadata": {},
      "outputs": [],
      "source": [
        "# Calculate Euclidean distance of each two vectors of M using G.\n"
      ]
    },
    {
      "cell_type": "code",
      "execution_count": null,
      "metadata": {},
      "outputs": [],
      "source": [
        "# Verify if V is in M"
      ]
    },
    {
      "cell_type": "code",
      "execution_count": null,
      "metadata": {},
      "outputs": [],
      "source": [
        "# Create a random sample of data (X values, and Y values) as to have 10 values of X in the\n",
        "# range [0; 11], and Y has a linear form Y= aX + b (a in [1.5; 1.8], and b in [4; 4.5]"
      ]
    },
    {
      "cell_type": "code",
      "execution_count": null,
      "metadata": {},
      "outputs": [],
      "source": [
        "# Check if matrix N is a sub matrix of M."
      ]
    },
    {
      "cell_type": "code",
      "execution_count": 250,
      "metadata": {},
      "outputs": [
        {
          "name": "stdout",
          "output_type": "stream",
          "text": [
            "[[1. 1. 1. 1. 1.]\n",
            " [1. 1. 1. 1. 1.]\n",
            " [1. 1. 1. 1. 1.]\n",
            " [1. 1. 1. 1. 1.]\n",
            " [1. 1. 1. 1. 1.]]\n",
            "\n",
            "[[1. 0. 0. 0. 0.]\n",
            " [0. 1. 0. 0. 0.]\n",
            " [0. 0. 1. 0. 0.]\n",
            " [0. 0. 0. 1. 0.]\n",
            " [0. 0. 0. 0. 1.]]\n",
            "\n",
            "[[0. 0. 0. 0. 0.]\n",
            " [0. 0. 0. 0. 0.]\n",
            " [0. 0. 0. 0. 0.]\n",
            " [0. 0. 0. 0. 0.]\n",
            " [0. 0. 0. 0. 0.]]\n",
            "\n",
            "[[0.04888244 0.19436076 0.62823063 0.78125902 0.92312054]\n",
            " [0.56178255 0.02744025 0.06288316 0.38318652 0.95071262]\n",
            " [0.96027888 0.74465407 0.51457599 0.52173924 0.81874669]\n",
            " [0.81083748 0.8962687  0.99728379 0.70233457 0.70225893]\n",
            " [0.66662338 0.54693043 0.60861928 0.95980141 0.51025664]]\n"
          ]
        }
      ],
      "source": [
        "mat_ones = np.ones((5,5))\n",
        "print(mat_ones)\n",
        "print()\n",
        "mat_id = np.identity(5)\n",
        "print(mat_id)\n",
        "print()\n",
        "mat_zeros = np.zeros((5,5))\n",
        "print(mat_zeros)\n",
        "print()\n",
        "mat_ran = np.random.rand(5,5)\n",
        "print(mat_ran)"
      ]
    },
    {
      "cell_type": "markdown",
      "metadata": {},
      "source": [
        "# <u> EXERCISE 4 :"
      ]
    },
    {
      "cell_type": "code",
      "execution_count": 257,
      "metadata": {},
      "outputs": [
        {
          "name": "stdout",
          "output_type": "stream",
          "text": [
            "20.08553692318766\n"
          ]
        }
      ],
      "source": [
        "# MacLaurin's serie for eponential\n",
        "def expo_maclaurin(x, n) :\n",
        "    ''' X is the varibale and n is the number of terms'''\n",
        "    serie = 0\n",
        "    for i in range(n):\n",
        "        coef = 1 / np.math.factorial(i)\n",
        "        term = coef * x**i\n",
        "        serie += term\n",
        "    return serie\n",
        "\n",
        "#----------TEST-----------\n",
        "approx = expo_maclaurin(x = 3 ,  n = 50)\n",
        "print(approx)"
      ]
    }
  ],
  "metadata": {
    "colab": {
      "provenance": []
    },
    "kernelspec": {
      "display_name": "Python 3",
      "name": "python3"
    },
    "language_info": {
      "codemirror_mode": {
        "name": "ipython",
        "version": 3
      },
      "file_extension": ".py",
      "mimetype": "text/x-python",
      "name": "python",
      "nbconvert_exporter": "python",
      "pygments_lexer": "ipython3",
      "version": "3.10.12"
    }
  },
  "nbformat": 4,
  "nbformat_minor": 0
}
