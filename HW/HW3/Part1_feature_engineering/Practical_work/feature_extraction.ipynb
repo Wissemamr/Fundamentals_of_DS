{
 "cells": [
  {
   "cell_type": "markdown",
   "metadata": {},
   "source": [
    "<div align = center>\n",
    "<h2> Feature extraction</h2>\n",
    "</div>"
   ]
  },
  {
   "cell_type": "markdown",
   "metadata": {},
   "source": [
    "Let’s consider the Iris flower data set that contains 150 data instances, and 4\n",
    "data features.\n",
    "- Get the data, and then give a short description using corresponding\n",
    "statistical indicators.\n",
    "- Clean the data by dealing with missing values, dropping unnecessary\n",
    "features, standardizing the data...etc.\n",
    "- Extract new featuring using PCA, and rank them according to their\n",
    "variance.\n",
    "\n",
    "- Test different configurations to build a clustering model using K-\n",
    "Means algorithm by: (a) testing different number of features, and (b)different number of Clusters. (c) different similarity measures. <br>\n",
    "o Use a density based technique to examine your model, <br>\n",
    "o Examine the size of the generate clusters. <br>\n",
    "- Visualize and interpret results."
   ]
  }
 ],
 "metadata": {
  "language_info": {
   "name": "python"
  }
 },
 "nbformat": 4,
 "nbformat_minor": 2
}
