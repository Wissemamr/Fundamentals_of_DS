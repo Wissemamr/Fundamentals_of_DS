{
 "cells": [
  {
   "cell_type": "markdown",
   "metadata": {},
   "source": [
    "<div align = center>\n",
    "<h2> Feature selection</h2>\n",
    "</div>"
   ]
  },
  {
   "cell_type": "markdown",
   "metadata": {},
   "source": [
    "Consider the Titanic dataset for your practical work, and test feature-\n",
    "engineering impact on the results.\n",
    "\n",
    "- Get the data, and then give a short description using corresponding\n",
    "statistical indicators.\n",
    "- Clean the data by dealing with missing values, dropping unnecessary\n",
    "features, standardizing the data...etc.\n",
    "- Measure the information gain of each feature on the Survived\n",
    "passengers.\n",
    "\n",
    "- Test different configurations to build a classification model using K-\n",
    "NN algorithm by: (a) testing different number of features, and (b) different number of K. (c) different similarity measure. <br>\n",
    "    o Use precision for validating results. <br>\n",
    "- Visualize and interpret results.\n"
   ]
  }
 ],
 "metadata": {
  "language_info": {
   "name": "python"
  }
 },
 "nbformat": 4,
 "nbformat_minor": 2
}
