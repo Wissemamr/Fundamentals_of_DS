{
 "cells": [
  {
   "cell_type": "markdown",
   "metadata": {},
   "source": [
    "<div align = center>\n",
    "<h2> Feature selection</h2>\n",
    "</div>"
   ]
  },
  {
   "cell_type": "markdown",
   "metadata": {},
   "source": [
    "Consider the Titanic dataset for your practical work, and test feature-\n",
    "engineering impact on the results.\n",
    "\n",
    "- Get the data, and then give a short description using corresponding\n",
    "statistical indicators.\n",
    "- Clean the data by dealing with missing values, dropping unnecessary\n",
    "features, standardizing the data...etc.\n",
    "- Measure the information gain of each feature on the Survived\n",
    "passengers.\n",
    "\n",
    "- Test different configurations to build a classification model using K-\n",
    "NN algorithm by: <br>\n",
    " (a) testing different number of features<br>\n",
    " (b) different number of K.<br>\n",
    " (c) different similarity measure. <br>\n",
    "    o Use precision for validating results. <br>\n",
    "- Visualize and interpret results.\n"
   ]
  },
  {
   "cell_type": "code",
   "execution_count": 22,
   "metadata": {},
   "outputs": [
    {
     "name": "stdout",
     "output_type": "stream",
     "text": [
      "2.1.2\n"
     ]
    }
   ],
   "source": [
    "import pandas as pd\n",
    "print(pd.__version__)"
   ]
  },
  {
   "cell_type": "code",
   "execution_count": 23,
   "metadata": {},
   "outputs": [
    {
     "name": "stdout",
     "output_type": "stream",
     "text": [
      "       PassengerId    Survived\n",
      "count   418.000000  418.000000\n",
      "mean   1100.500000    0.363636\n",
      "std     120.810458    0.481622\n",
      "min     892.000000    0.000000\n",
      "25%     996.250000    0.000000\n",
      "50%    1100.500000    0.000000\n",
      "75%    1204.750000    1.000000\n",
      "max    1309.000000    1.000000\n"
     ]
    }
   ],
   "source": [
    "#Get the data\n",
    "df = pd.read_csv('gender_submission.csv')\n",
    "# then give a short description using corresponding statistical indicators\n",
    "print(df.describe())\n"
   ]
  },
  {
   "cell_type": "code",
   "execution_count": 24,
   "metadata": {},
   "outputs": [
    {
     "name": "stdout",
     "output_type": "stream",
     "text": [
      "(418, 2)\n",
      "(418, 2)\n"
     ]
    }
   ],
   "source": [
    "#  Clean the data by dealing with missing values, dropping unnecessary features, standardizing the data\n",
    "\n",
    "print(df.shape)\n",
    "df.dropna(inplace=True)\n",
    "df.drop_duplicates(inplace=True)\n",
    "print(df.shape)"
   ]
  },
  {
   "cell_type": "code",
   "execution_count": null,
   "metadata": {},
   "outputs": [],
   "source": []
  },
  {
   "cell_type": "code",
   "execution_count": null,
   "metadata": {},
   "outputs": [],
   "source": []
  },
  {
   "cell_type": "code",
   "execution_count": null,
   "metadata": {},
   "outputs": [],
   "source": []
  },
  {
   "cell_type": "code",
   "execution_count": null,
   "metadata": {},
   "outputs": [],
   "source": []
  },
  {
   "cell_type": "code",
   "execution_count": null,
   "metadata": {},
   "outputs": [],
   "source": []
  },
  {
   "cell_type": "code",
   "execution_count": null,
   "metadata": {},
   "outputs": [],
   "source": []
  },
  {
   "cell_type": "code",
   "execution_count": null,
   "metadata": {},
   "outputs": [],
   "source": []
  }
 ],
 "metadata": {
  "kernelspec": {
   "display_name": "Python 3",
   "language": "python",
   "name": "python3"
  },
  "language_info": {
   "codemirror_mode": {
    "name": "ipython",
    "version": 3
   },
   "file_extension": ".py",
   "mimetype": "text/x-python",
   "name": "python",
   "nbconvert_exporter": "python",
   "pygments_lexer": "ipython3",
   "version": "3.12.0"
  }
 },
 "nbformat": 4,
 "nbformat_minor": 2
}
