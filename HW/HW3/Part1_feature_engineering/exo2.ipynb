{
 "cells": [
  {
   "cell_type": "markdown",
   "metadata": {},
   "source": [
    "<div align=\"center\">\n",
    "  <h1>Principal component analysis (PCA) </h1>\n",
    "</div>"
   ]
  },
  {
   "cell_type": "markdown",
   "metadata": {},
   "source": [
    "### <u> Exercise 02 </u>:\n",
    "Consider the following dataset composed of 6 data rows and 3 variables.\n",
    "\n",
    "|             |   X  |  Y   |   Z  | \n",
    "| ----------- | ---- | ---- | ---- |\n",
    "| R1          | 12   | 24   | 6    |\n",
    "| R2          | 17   | 15.5 | -2   |\n",
    "| R3          | 12   | 13   | 3    |\n",
    "| R4          | 6    | 13.5 | -2.5 |\n",
    "| R5          | 17   | 21   | 7.2  |\n",
    "| R6          | 4    | 20.3 | -0.9 |\n",
    "\n",
    "\n",
    "Your task is to extract a reduced set of features using PCA method.<br>\n",
    " PCA\n",
    "provides a matrix of eigenvectors that explains the variance of the original\n",
    "variables. To reduce data using PCA, we run the next operation: <br>\n",
    "$$ R= X V $$\n",
    "Where, $R$ is the reduced data ($R$ has the shape of $r$ data rows, and $m$\n",
    "data columns), $X$ is the original data matrix (i.e., it has the shape of $r$\n",
    "data rows, and n columns). $V$ is the eigenvectors matrix (it has the\n",
    "shape of $n$ data rows, and $m$ data columns). <br>\n",
    "To calculate the reduction matrix $V$, we follow the next steps :\n",
    "1. Calculate the mean and standard deviation for each variable $ (X, Y, Z)$.\n",
    "\n",
    "2. Standardize the data using the $Z-score$ to get the standardized matrix $S$. Next, the $Z-score$ formula.\n",
    "\n",
    "$$\n",
    "\\text{Z-score} = \\frac{x - \\mu}{\\sigma}\n",
    "$$\n",
    "Where, $x$ is a feature vector,  $\\mu$  is the mean of\n",
    "$x$ and $\\sigma$ is standard deviation of $x$\n",
    "\n",
    "3. Calculate the covariance matrix, $C$, ($i.e.$, $C$ has the shape of $(n,n)$. The covariance matrix is given by:\n",
    "$$\n",
    "C(x, y) = \\text{Cov}(x, y) = \\frac{xy}{n-1}\n",
    "$$\n",
    "\n",
    "Where $x$ and $y$ are two feature vectors, and $n$ is the number of elements in\n",
    "the data vectors ($i.e.$, number of variables).\n",
    "\n",
    "4. Find the eigenvalues $(λ1, λ2 ,λ3)$ and corresponding eigenvectors $(v1\n",
    ",v2,v3)$ of the covariance matrix by solving the next equation:\n",
    "$$\n",
    "det(C- D)=0\n",
    "$$\n",
    "Where, $D$ is a diagonal matrix having in its diagonal $(λ1, λ2 ,λ3...)$ values.\n",
    "\n",
    "Also, to get the eigenvectors corresponding to the given eigenvalue\n",
    "$λ_i$, we solve the next linear equation:\n",
    "$$\n",
    "(C−λ_iI) v_i=0\n",
    "$$\n",
    "Where, $I$ is the identity matrix of shape $(n,n)$, and $v_i$ is the eigenvector\n",
    "of shape $(1,n)$ corresponding to the eigenvalue $λ_i$.\n",
    "\n",
    "5. Sort the eigenvalues in descending order and arrange the\n",
    "corresponding eigenvectors accordingly.\n",
    "6. Decide how many principal components to keep based on the\n",
    "explained variance ($i.e.$, each eigenvalue explains a portion of\n",
    "variance.). You can decide to keep, for example, the first two principal\n",
    "components if their sum represents $90\\%$ of the variance (sum of their\n",
    "eigenvalues divided on the total sum is bigger than $0.9$ ).\n",
    "\n",
    "7. Form the projection matrix $V$ by only keeping eigenvectors\n",
    "corresponding to the highest eigenvalues.\n",
    "8. Calculate the reduced data matrix $R$ by projecting the standardized data $X$ into the selected principal components to obtain the reduced-\n",
    "dimensional representation using."
   ]
  },
  {
   "cell_type": "markdown",
   "metadata": {},
   "source": [
    "### Solution :\n",
    "\n",
    "Calculate the mean and standard deviation for each variable $ (X, Y, Z)$."
   ]
  },
  {
   "cell_type": "code",
   "execution_count": 219,
   "metadata": {},
   "outputs": [
    {
     "data": {
      "text/html": [
       "<div>\n",
       "<style scoped>\n",
       "    .dataframe tbody tr th:only-of-type {\n",
       "        vertical-align: middle;\n",
       "    }\n",
       "\n",
       "    .dataframe tbody tr th {\n",
       "        vertical-align: top;\n",
       "    }\n",
       "\n",
       "    .dataframe thead th {\n",
       "        text-align: right;\n",
       "    }\n",
       "</style>\n",
       "<table border=\"1\" class=\"dataframe\">\n",
       "  <thead>\n",
       "    <tr style=\"text-align: right;\">\n",
       "      <th></th>\n",
       "      <th>X</th>\n",
       "      <th>Y</th>\n",
       "      <th>Z</th>\n",
       "    </tr>\n",
       "  </thead>\n",
       "  <tbody>\n",
       "    <tr>\n",
       "      <th>R1</th>\n",
       "      <td>12</td>\n",
       "      <td>24.0</td>\n",
       "      <td>6.0</td>\n",
       "    </tr>\n",
       "    <tr>\n",
       "      <th>R2</th>\n",
       "      <td>17</td>\n",
       "      <td>15.5</td>\n",
       "      <td>-2.0</td>\n",
       "    </tr>\n",
       "    <tr>\n",
       "      <th>R3</th>\n",
       "      <td>12</td>\n",
       "      <td>13.0</td>\n",
       "      <td>3.0</td>\n",
       "    </tr>\n",
       "    <tr>\n",
       "      <th>R4</th>\n",
       "      <td>6</td>\n",
       "      <td>13.5</td>\n",
       "      <td>-2.5</td>\n",
       "    </tr>\n",
       "    <tr>\n",
       "      <th>R5</th>\n",
       "      <td>17</td>\n",
       "      <td>21.0</td>\n",
       "      <td>7.2</td>\n",
       "    </tr>\n",
       "    <tr>\n",
       "      <th>R6</th>\n",
       "      <td>4</td>\n",
       "      <td>20.3</td>\n",
       "      <td>-0.9</td>\n",
       "    </tr>\n",
       "  </tbody>\n",
       "</table>\n",
       "</div>"
      ],
      "text/plain": [
       "     X     Y    Z\n",
       "R1  12  24.0  6.0\n",
       "R2  17  15.5 -2.0\n",
       "R3  12  13.0  3.0\n",
       "R4   6  13.5 -2.5\n",
       "R5  17  21.0  7.2\n",
       "R6   4  20.3 -0.9"
      ]
     },
     "execution_count": 219,
     "metadata": {},
     "output_type": "execute_result"
    }
   ],
   "source": [
    "import pandas as pd\n",
    "import numpy as np\n",
    "\n",
    "# Structure the table into a df for easier manipulation\n",
    "data = {\n",
    "    'X': [12, 17, 12, 6, 17, 4],\n",
    "    'Y': [24, 15.5, 13, 13.5, 21, 20.3],\n",
    "    'Z': [6, -2, 3, -2.5, 7.2, -0.9]\n",
    "}\n",
    "\n",
    "df = pd.DataFrame(data, index=['R1', 'R2', 'R3', 'R4', 'R5', 'R6'])\n",
    "df"
   ]
  },
  {
   "cell_type": "markdown",
   "metadata": {},
   "source": [
    "<b> Step 01 :</b>  Calculate the mean and standard deviation for each variable  (X, Y, Z)."
   ]
  },
  {
   "cell_type": "code",
   "execution_count": 220,
   "metadata": {},
   "outputs": [
    {
     "name": "stdout",
     "output_type": "stream",
     "text": [
      " The variable X \n",
      " The mean is : 11.33 \n",
      " The std is : 4.96 \n",
      "\n",
      " The variable Y \n",
      " The mean is : 17.88 \n",
      " The std is : 4.12 \n",
      "\n",
      " The variable Z \n",
      " The mean is : 1.8 \n",
      " The std is : 3.84 \n",
      "\n"
     ]
    }
   ],
   "source": [
    "def calculate_mean(column_data: list[float]) -> float:\n",
    "    return round(np.mean(column_data), 2)\n",
    "\n",
    "\n",
    "def calculate_std(column_data: list[float]) -> float:\n",
    "    return round(np.std(column_data), 2)\n",
    "\n",
    "\n",
    "for var in df.columns :\n",
    "    mean_var = calculate_mean(df[var])\n",
    "    std_var = calculate_std(df[var])\n",
    "    print(\n",
    "        f\" The variable {var} \\n The mean is : { mean_var} \\n The std is : {std_var} \\n\"\n",
    "    )"
   ]
  },
  {
   "cell_type": "markdown",
   "metadata": {},
   "source": [
    "<b> Step 02 :</b>  Standardize the data using Z-score."
   ]
  },
  {
   "cell_type": "code",
   "execution_count": 221,
   "metadata": {},
   "outputs": [
    {
     "data": {
      "text/html": [
       "<div>\n",
       "<style scoped>\n",
       "    .dataframe tbody tr th:only-of-type {\n",
       "        vertical-align: middle;\n",
       "    }\n",
       "\n",
       "    .dataframe tbody tr th {\n",
       "        vertical-align: top;\n",
       "    }\n",
       "\n",
       "    .dataframe thead th {\n",
       "        text-align: right;\n",
       "    }\n",
       "</style>\n",
       "<table border=\"1\" class=\"dataframe\">\n",
       "  <thead>\n",
       "    <tr style=\"text-align: right;\">\n",
       "      <th></th>\n",
       "      <th>X</th>\n",
       "      <th>Y</th>\n",
       "      <th>Z</th>\n",
       "    </tr>\n",
       "  </thead>\n",
       "  <tbody>\n",
       "    <tr>\n",
       "      <th>R1</th>\n",
       "      <td>0.135081</td>\n",
       "      <td>1.485437</td>\n",
       "      <td>1.093750</td>\n",
       "    </tr>\n",
       "    <tr>\n",
       "      <th>R2</th>\n",
       "      <td>1.143145</td>\n",
       "      <td>-0.577670</td>\n",
       "      <td>-0.989583</td>\n",
       "    </tr>\n",
       "    <tr>\n",
       "      <th>R3</th>\n",
       "      <td>0.135081</td>\n",
       "      <td>-1.184466</td>\n",
       "      <td>0.312500</td>\n",
       "    </tr>\n",
       "    <tr>\n",
       "      <th>R4</th>\n",
       "      <td>-1.074597</td>\n",
       "      <td>-1.063107</td>\n",
       "      <td>-1.119792</td>\n",
       "    </tr>\n",
       "    <tr>\n",
       "      <th>R5</th>\n",
       "      <td>1.143145</td>\n",
       "      <td>0.757282</td>\n",
       "      <td>1.406250</td>\n",
       "    </tr>\n",
       "    <tr>\n",
       "      <th>R6</th>\n",
       "      <td>-1.477823</td>\n",
       "      <td>0.587379</td>\n",
       "      <td>-0.703125</td>\n",
       "    </tr>\n",
       "  </tbody>\n",
       "</table>\n",
       "</div>"
      ],
      "text/plain": [
       "           X         Y         Z\n",
       "R1  0.135081  1.485437  1.093750\n",
       "R2  1.143145 -0.577670 -0.989583\n",
       "R3  0.135081 -1.184466  0.312500\n",
       "R4 -1.074597 -1.063107 -1.119792\n",
       "R5  1.143145  0.757282  1.406250\n",
       "R6 -1.477823  0.587379 -0.703125"
      ]
     },
     "execution_count": 221,
     "metadata": {},
     "output_type": "execute_result"
    }
   ],
   "source": [
    "def calculate_Z_score(column_data: list) -> list[float]:\n",
    "    Z_score = (column_data - calculate_mean(column_data)) / calculate_std(column_data)\n",
    "    return Z_score\n",
    "# save the results in a new df\n",
    "df_stand = pd.DataFrame()\n",
    "for var in df.columns:\n",
    "    df_stand[var] = calculate_Z_score(df[var])\n",
    "    \n",
    "df_stand"
   ]
  },
  {
   "cell_type": "markdown",
   "metadata": {},
   "source": [
    "<b> Step 03 :</b>  Calculate the covariance matrix."
   ]
  },
  {
   "cell_type": "code",
   "execution_count": 222,
   "metadata": {},
   "outputs": [
    {
     "name": "stdout",
     "output_type": "stream",
     "text": [
      "The covariance matrix : \n",
      " [[1.19775408 0.1040688  0.58173723]\n",
      " [0.1040688  1.19837324 0.73371764]\n",
      " [0.58173723 0.73371764 1.19981554]] \n",
      "\n"
     ]
    }
   ],
   "source": [
    "# transform the df into a numpy ndarray\n",
    "stand_data_nd_array = df_stand.to_numpy()\n",
    "def calculate_covariance(column_data: np.ndarray) -> np.ndarray:\n",
    "    return np.cov(column_data, rowvar=False)\n",
    "\n",
    "cov_matrix = calculate_covariance(stand_data_nd_array)\n",
    "print(f\"The covariance matrix : \\n {cov_matrix} \\n\")\n",
    "\n"
   ]
  },
  {
   "cell_type": "markdown",
   "metadata": {},
   "source": [
    "<b> Step 04 :</b>  Find the eigenvalues and corresponding eigenvectors of the covariance matrix"
   ]
  },
  {
   "cell_type": "code",
   "execution_count": 223,
   "metadata": {},
   "outputs": [
    {
     "name": "stdout",
     "output_type": "stream",
     "text": [
      "Eigenvalues:\n",
      " [2.18758254 1.09673205 0.31162826]\n",
      "\n",
      "Eigenvectors:\n",
      " [[-0.46304491 -0.78508176 -0.4113831 ]\n",
      " [-0.55893227  0.6188619  -0.55191001]\n",
      " [-0.68788381  0.02562383  0.72536838]]\n"
     ]
    }
   ],
   "source": [
    "def get_eigen_val_vect(cov_mat: np.ndarray) -> np.ndarray:\n",
    "    eigenvals, eigenvects = np.linalg.eig(cov_mat)\n",
    "    return eigenvals, eigenvects\n",
    "\n",
    "eigenvalues, eigenvectors = get_eigen_val_vect(cov_matrix)\n",
    "print(\"Eigenvalues:\\n\", eigenvalues)\n",
    "print(\"\\nEigenvectors:\\n\", eigenvectors)"
   ]
  },
  {
   "cell_type": "markdown",
   "metadata": {},
   "source": [
    "<b> Step 05 :</b> Sort the eigenvalues in descending order and arrange the corresponding eigenvectors accordingly."
   ]
  },
  {
   "cell_type": "code",
   "execution_count": 224,
   "metadata": {},
   "outputs": [
    {
     "name": "stdout",
     "output_type": "stream",
     "text": [
      "Sorted eigenvalues:\n",
      " [2.18758254 1.09673205 0.31162826]\n",
      "\n",
      " Sorted Eigenvectors:\n",
      " [[-0.46304491 -0.78508176 -0.4113831 ]\n",
      " [-0.55893227  0.6188619  -0.55191001]\n",
      " [-0.68788381  0.02562383  0.72536838]]\n"
     ]
    }
   ],
   "source": [
    "def sort_eigens(eigen_vals: np.ndarray, eigens_vects: np.ndarray):\n",
    "    \"\"\"Sort eigenvalues and corresponding eigenvectors\"\"\"\n",
    "    sorted_ids = np.argsort(eigen_vals)[::-1]\n",
    "    sorted_eigenvalues = eigen_vals[sorted_ids]\n",
    "    sorted_eigenvectors = eigens_vects[:, sorted_ids]\n",
    "    return sorted_eigenvalues, sorted_eigenvectors\n",
    "\n",
    "\n",
    "eigenvals, eigenvects = sort_eigens(eigenvalues, eigenvectors)\n",
    "\n",
    "print(\"Sorted eigenvalues:\\n\", eigenvals)\n",
    "print(\"\\n Sorted Eigenvectors:\\n\", eigenvects)"
   ]
  },
  {
   "cell_type": "markdown",
   "metadata": {},
   "source": [
    "<b> Step 06 :</b> Decide how many principal components to keep based on the explained variance"
   ]
  },
  {
   "cell_type": "markdown",
   "metadata": {},
   "source": [
    "We use <b> Explained Variance Ratio </b> as a metric to evaluate the usefulness of your principal components and to choose how many components to use in your model. The explained variance ratio is the percentage of variance that is attributed by each of the selected components. Ideally, you would choose the number of components to include in your model by adding the explained variance ratio of each component until you reach a total of around 0.9"
   ]
  },
  {
   "cell_type": "code",
   "execution_count": 225,
   "metadata": {},
   "outputs": [
    {
     "name": "stdout",
     "output_type": "stream",
     "text": [
      "[0.60834742 0.30499151 0.08666107]\n",
      "[0.60834742 0.91333893 1.        ]\n",
      "[[-0.46304491 -0.78508176]\n",
      " [-0.55893227  0.6188619 ]\n",
      " [-0.68788381  0.02562383]]\n"
     ]
    }
   ],
   "source": [
    "def select_main_comp(eigenvalues: np.ndarray, eigenvectors: np.ndarray, threshold : float) -> np.ndarray:\n",
    "    total_variance = np.sum(eigenvalues)\n",
    "    # calculate explained variance ratio (evr)\n",
    "    evr = eigenvalues / total_variance\n",
    "    print(evr)\n",
    "    cumulative_explained_variance = np.cumsum(evr)\n",
    "    print(cumulative_explained_variance)\n",
    "    num_components_to_keep = np.argmax(cumulative_explained_variance >= threshold) + 1\n",
    "    chosen_eigvals = eigenvalues[:num_components_to_keep]\n",
    "    chosen_eigvects = eigenvectors[:, :num_components_to_keep]\n",
    "    return  chosen_eigvects \n",
    "\n",
    "main_comp = select_main_comp(eigenvals, eigenvects, 0.9)\n",
    "print(main_comp)\n",
    "\n"
   ]
  },
  {
   "cell_type": "markdown",
   "metadata": {},
   "source": [
    "<b> Step 06 :</b> Obtain the reduced-dimensional representation"
   ]
  },
  {
   "cell_type": "code",
   "execution_count": 226,
   "metadata": {},
   "outputs": [
    {
     "name": "stdout",
     "output_type": "stream",
     "text": [
      "[[-1.64517994  0.84125702]\n",
      " [ 0.47426916 -1.28031722]\n",
      " [ 0.38452419 -0.8310628 ]\n",
      " [ 1.86207781  0.15703668]\n",
      " [-1.91993324 -0.3927762 ]\n",
      " [ 0.83966164  1.50570106]]\n"
     ]
    }
   ],
   "source": [
    "def reduce_data ( stand_data: np.ndarray, principal_conponents: np.ndarray) -> np.ndarray:\n",
    "    return np.dot(stand_data, principal_conponents)\n",
    "reduced_data = reduce_data(stand_data_nd_array, main_comp)\n",
    "print(reduced_data)"
   ]
  },
  {
   "cell_type": "code",
   "execution_count": 227,
   "metadata": {},
   "outputs": [
    {
     "data": {
      "text/html": [
       "<div>\n",
       "<style scoped>\n",
       "    .dataframe tbody tr th:only-of-type {\n",
       "        vertical-align: middle;\n",
       "    }\n",
       "\n",
       "    .dataframe tbody tr th {\n",
       "        vertical-align: top;\n",
       "    }\n",
       "\n",
       "    .dataframe thead th {\n",
       "        text-align: right;\n",
       "    }\n",
       "</style>\n",
       "<table border=\"1\" class=\"dataframe\">\n",
       "  <thead>\n",
       "    <tr style=\"text-align: right;\">\n",
       "      <th></th>\n",
       "      <th>Principal_Component_1</th>\n",
       "      <th>Principal_Component_2</th>\n",
       "    </tr>\n",
       "  </thead>\n",
       "  <tbody>\n",
       "    <tr>\n",
       "      <th>0</th>\n",
       "      <td>-1.645180</td>\n",
       "      <td>0.841257</td>\n",
       "    </tr>\n",
       "    <tr>\n",
       "      <th>1</th>\n",
       "      <td>0.474269</td>\n",
       "      <td>-1.280317</td>\n",
       "    </tr>\n",
       "    <tr>\n",
       "      <th>2</th>\n",
       "      <td>0.384524</td>\n",
       "      <td>-0.831063</td>\n",
       "    </tr>\n",
       "    <tr>\n",
       "      <th>3</th>\n",
       "      <td>1.862078</td>\n",
       "      <td>0.157037</td>\n",
       "    </tr>\n",
       "    <tr>\n",
       "      <th>4</th>\n",
       "      <td>-1.919933</td>\n",
       "      <td>-0.392776</td>\n",
       "    </tr>\n",
       "    <tr>\n",
       "      <th>5</th>\n",
       "      <td>0.839662</td>\n",
       "      <td>1.505701</td>\n",
       "    </tr>\n",
       "  </tbody>\n",
       "</table>\n",
       "</div>"
      ],
      "text/plain": [
       "   Principal_Component_1  Principal_Component_2\n",
       "0              -1.645180               0.841257\n",
       "1               0.474269              -1.280317\n",
       "2               0.384524              -0.831063\n",
       "3               1.862078               0.157037\n",
       "4              -1.919933              -0.392776\n",
       "5               0.839662               1.505701"
      ]
     },
     "execution_count": 227,
     "metadata": {},
     "output_type": "execute_result"
    }
   ],
   "source": [
    "reduced_df = pd.DataFrame(reduced_data, columns=['Principal_Component_1', 'Principal_Component_2'])\n",
    "reduced_df"
   ]
  },
  {
   "cell_type": "code",
   "execution_count": null,
   "metadata": {},
   "outputs": [],
   "source": []
  },
  {
   "cell_type": "markdown",
   "metadata": {},
   "source": [
    "### Bonus : Plot the reduced data"
   ]
  },
  {
   "cell_type": "code",
   "execution_count": 228,
   "metadata": {},
   "outputs": [],
   "source": [
    "import matplotlib.pyplot as plt\n",
    "\n",
    "plt.figure(figsize=(6, 4))\n",
    "plt.scatter(reduced_df['Principal_Component_1'], reduced_df['Principal_Component_2'], color = 'purple')\n",
    "plt.title('Reduced Data Plot')\n",
    "plt.xlabel('Principal_Component_1')\n",
    "plt.ylabel('Principal_Component_2')\n",
    "plt.show()"
   ]
  }
 ],
 "metadata": {
  "kernelspec": {
   "display_name": "Python 3",
   "language": "python",
   "name": "python3"
  },
  "language_info": {
   "codemirror_mode": {
    "name": "ipython",
    "version": 3
   },
   "file_extension": ".py",
   "mimetype": "text/x-python",
   "name": "python",
   "nbconvert_exporter": "python",
   "pygments_lexer": "ipython3",
   "version": "3.12.0"
  }
 },
 "nbformat": 4,
 "nbformat_minor": 2
}
