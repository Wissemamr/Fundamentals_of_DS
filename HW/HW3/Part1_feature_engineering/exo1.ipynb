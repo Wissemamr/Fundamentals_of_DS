{
 "cells": [
  {
   "cell_type": "markdown",
   "metadata": {},
   "source": [
    "\n",
    "\n",
    "<div align=\"center\">\n",
    "  <h1> Feature selection using information gain </h1>\n",
    "</div>"
   ]
  },
  {
   "cell_type": "markdown",
   "metadata": {},
   "source": [
    "### <u> Exercice 01 : </u><br>\n",
    "\n",
    "Consider the following dataset containing information about the weather and\n",
    "the number of people who visited a park on a given day:\n",
    "| Temperature | Cloud cover   |Humidity     | Weather   |\n",
    "| ----------- | ------------- |-------------|---------- |\n",
    "| 75          | Sunny         | Low         | Sunny     |\n",
    "| 80          | Partly Cloudy | High        | Sunny     |\n",
    "| 85          | Overcast      | High        | Rainy     |\n",
    "| 70          | Sunny         | Medium      | Sunny     |\n",
    "| 65          | Overcast      | Medium      | Stormy    |\n",
    "| 60          | Partly Cloudy | Low         | Sunny     |\n",
    "| 90          | Overcast      | High        | Rainy     |\n",
    "\n",
    "\n",
    "Your task is to select the most relevant features (weather conditions) to predict\n",
    "the number of visitors to the park. To do this, you will calculate the information\n",
    "gain for each feature.\n",
    "1. Discretize the feature Temperature; so we have three levels of temperature: warm, hot, and very hot.\n",
    "2. Calculate the Entropy of the target class Weather, using the formula: <br>\n",
    "\n",
    "$$\n",
    "H(X) = \\sum_{x=1}^{n} P(x_i) \\cdot \\log_2(P(x_i))\n",
    "$$  \n",
    "Where, $P(x_i)$ is the appearance probability of value $x_i$ among the values of the feature $X$, and $n$ is the number of records of $X$. \n",
    "\n",
    "3. Calculate the information gain of each feature in regard to the target\n",
    "feature Weather, using the information gain formula: <br>\n",
    "$$\n",
    "\\text{IG}(A, X) = H(X) - \\sum_{i=1}^{n} P(x_i) \\cdot H(A | x_i) \n",
    "$$\n",
    "Where $H(A |x_i)$ is the entropy of the feature $A$ calculated on the portion of data where the target feature has the value $x_i$\n",
    "\n",
    "4. Order the features according to their IG.\n"
   ]
  },
  {
   "cell_type": "markdown",
   "metadata": {},
   "source": [
    "### <U> Solution :"
   ]
  },
  {
   "cell_type": "markdown",
   "metadata": {},
   "source": []
  },
  {
   "cell_type": "code",
   "execution_count": null,
   "metadata": {},
   "outputs": [],
   "source": []
  }
 ],
 "metadata": {
  "kernelspec": {
   "display_name": "Python 3",
   "language": "python",
   "name": "python3"
  },
  "language_info": {
   "codemirror_mode": {
    "name": "ipython",
    "version": 3
   },
   "file_extension": ".py",
   "mimetype": "text/x-python",
   "name": "python",
   "nbconvert_exporter": "python",
   "pygments_lexer": "ipython3",
   "version": "3.12.0"
  }
 },
 "nbformat": 4,
 "nbformat_minor": 2
}
