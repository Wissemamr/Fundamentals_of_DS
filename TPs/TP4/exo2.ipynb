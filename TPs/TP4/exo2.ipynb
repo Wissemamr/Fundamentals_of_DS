{
 "cells": [
  {
   "cell_type": "code",
   "execution_count": 3,
   "metadata": {},
   "outputs": [
    {
     "name": "stdout",
     "output_type": "stream",
     "text": [
      "Columns: Index(['UserId', 'ProductId', 'Rating', 'Timestamp'], dtype='object')\n"
     ]
    },
    {
     "ename": "KeyError",
     "evalue": "'movieId'",
     "output_type": "error",
     "traceback": [
      "\u001b[1;31m---------------------------------------------------------------------------\u001b[0m",
      "\u001b[1;31mKeyError\u001b[0m                                  Traceback (most recent call last)",
      "File \u001b[1;32mc:\\Users\\PC CABA DZ\\AppData\\Local\\Programs\\Python\\Python312\\Lib\\site-packages\\pandas\\core\\indexes\\base.py:3790\u001b[0m, in \u001b[0;36mIndex.get_loc\u001b[1;34m(self, key)\u001b[0m\n\u001b[0;32m   3789\u001b[0m \u001b[39mtry\u001b[39;00m:\n\u001b[1;32m-> 3790\u001b[0m     \u001b[39mreturn\u001b[39;00m \u001b[39mself\u001b[39;49m\u001b[39m.\u001b[39;49m_engine\u001b[39m.\u001b[39;49mget_loc(casted_key)\n\u001b[0;32m   3791\u001b[0m \u001b[39mexcept\u001b[39;00m \u001b[39mKeyError\u001b[39;00m \u001b[39mas\u001b[39;00m err:\n",
      "File \u001b[1;32mindex.pyx:152\u001b[0m, in \u001b[0;36mpandas._libs.index.IndexEngine.get_loc\u001b[1;34m()\u001b[0m\n",
      "File \u001b[1;32mindex.pyx:181\u001b[0m, in \u001b[0;36mpandas._libs.index.IndexEngine.get_loc\u001b[1;34m()\u001b[0m\n",
      "File \u001b[1;32mpandas\\_libs\\hashtable_class_helper.pxi:7080\u001b[0m, in \u001b[0;36mpandas._libs.hashtable.PyObjectHashTable.get_item\u001b[1;34m()\u001b[0m\n",
      "File \u001b[1;32mpandas\\_libs\\hashtable_class_helper.pxi:7088\u001b[0m, in \u001b[0;36mpandas._libs.hashtable.PyObjectHashTable.get_item\u001b[1;34m()\u001b[0m\n",
      "\u001b[1;31mKeyError\u001b[0m: 'movieId'",
      "\nThe above exception was the direct cause of the following exception:\n",
      "\u001b[1;31mKeyError\u001b[0m                                  Traceback (most recent call last)",
      "\u001b[1;32mc:\\Users\\PC CABA DZ\\Desktop\\2CS\\homework\\FDS\\Fundamentals_of_DS\\TPs\\TP4\\exo2.ipynb Cell 1\u001b[0m line \u001b[0;36m1\n\u001b[0;32m      <a href='vscode-notebook-cell:/c%3A/Users/PC%20CABA%20DZ/Desktop/2CS/homework/FDS/Fundamentals_of_DS/TPs/TP4/exo2.ipynb#W0sZmlsZQ%3D%3D?line=8'>9</a>\u001b[0m \u001b[39m# Number of users, items, ratings\u001b[39;00m\n\u001b[0;32m     <a href='vscode-notebook-cell:/c%3A/Users/PC%20CABA%20DZ/Desktop/2CS/homework/FDS/Fundamentals_of_DS/TPs/TP4/exo2.ipynb#W0sZmlsZQ%3D%3D?line=9'>10</a>\u001b[0m num_users \u001b[39m=\u001b[39m movie_lens_data[\u001b[39m'\u001b[39m\u001b[39mUserId\u001b[39m\u001b[39m'\u001b[39m]\u001b[39m.\u001b[39mnunique()\n\u001b[1;32m---> <a href='vscode-notebook-cell:/c%3A/Users/PC%20CABA%20DZ/Desktop/2CS/homework/FDS/Fundamentals_of_DS/TPs/TP4/exo2.ipynb#W0sZmlsZQ%3D%3D?line=10'>11</a>\u001b[0m num_items \u001b[39m=\u001b[39m movie_lens_data[\u001b[39m'\u001b[39;49m\u001b[39mmovieId\u001b[39;49m\u001b[39m'\u001b[39;49m]\u001b[39m.\u001b[39mnunique()\n\u001b[0;32m     <a href='vscode-notebook-cell:/c%3A/Users/PC%20CABA%20DZ/Desktop/2CS/homework/FDS/Fundamentals_of_DS/TPs/TP4/exo2.ipynb#W0sZmlsZQ%3D%3D?line=11'>12</a>\u001b[0m num_ratings \u001b[39m=\u001b[39m \u001b[39mlen\u001b[39m(movie_lens_data)\n\u001b[0;32m     <a href='vscode-notebook-cell:/c%3A/Users/PC%20CABA%20DZ/Desktop/2CS/homework/FDS/Fundamentals_of_DS/TPs/TP4/exo2.ipynb#W0sZmlsZQ%3D%3D?line=12'>13</a>\u001b[0m \u001b[39mprint\u001b[39m(\u001b[39mf\u001b[39m\u001b[39m\"\u001b[39m\u001b[39mNumber of users: \u001b[39m\u001b[39m{\u001b[39;00mnum_users\u001b[39m}\u001b[39;00m\u001b[39m, Number of items: \u001b[39m\u001b[39m{\u001b[39;00mnum_items\u001b[39m}\u001b[39;00m\u001b[39m, Number of ratings: \u001b[39m\u001b[39m{\u001b[39;00mnum_ratings\u001b[39m}\u001b[39;00m\u001b[39m\"\u001b[39m)\n",
      "File \u001b[1;32mc:\\Users\\PC CABA DZ\\AppData\\Local\\Programs\\Python\\Python312\\Lib\\site-packages\\pandas\\core\\frame.py:3893\u001b[0m, in \u001b[0;36mDataFrame.__getitem__\u001b[1;34m(self, key)\u001b[0m\n\u001b[0;32m   3891\u001b[0m \u001b[39mif\u001b[39;00m \u001b[39mself\u001b[39m\u001b[39m.\u001b[39mcolumns\u001b[39m.\u001b[39mnlevels \u001b[39m>\u001b[39m \u001b[39m1\u001b[39m:\n\u001b[0;32m   3892\u001b[0m     \u001b[39mreturn\u001b[39;00m \u001b[39mself\u001b[39m\u001b[39m.\u001b[39m_getitem_multilevel(key)\n\u001b[1;32m-> 3893\u001b[0m indexer \u001b[39m=\u001b[39m \u001b[39mself\u001b[39;49m\u001b[39m.\u001b[39;49mcolumns\u001b[39m.\u001b[39;49mget_loc(key)\n\u001b[0;32m   3894\u001b[0m \u001b[39mif\u001b[39;00m is_integer(indexer):\n\u001b[0;32m   3895\u001b[0m     indexer \u001b[39m=\u001b[39m [indexer]\n",
      "File \u001b[1;32mc:\\Users\\PC CABA DZ\\AppData\\Local\\Programs\\Python\\Python312\\Lib\\site-packages\\pandas\\core\\indexes\\base.py:3797\u001b[0m, in \u001b[0;36mIndex.get_loc\u001b[1;34m(self, key)\u001b[0m\n\u001b[0;32m   3792\u001b[0m     \u001b[39mif\u001b[39;00m \u001b[39misinstance\u001b[39m(casted_key, \u001b[39mslice\u001b[39m) \u001b[39mor\u001b[39;00m (\n\u001b[0;32m   3793\u001b[0m         \u001b[39misinstance\u001b[39m(casted_key, abc\u001b[39m.\u001b[39mIterable)\n\u001b[0;32m   3794\u001b[0m         \u001b[39mand\u001b[39;00m \u001b[39many\u001b[39m(\u001b[39misinstance\u001b[39m(x, \u001b[39mslice\u001b[39m) \u001b[39mfor\u001b[39;00m x \u001b[39min\u001b[39;00m casted_key)\n\u001b[0;32m   3795\u001b[0m     ):\n\u001b[0;32m   3796\u001b[0m         \u001b[39mraise\u001b[39;00m InvalidIndexError(key)\n\u001b[1;32m-> 3797\u001b[0m     \u001b[39mraise\u001b[39;00m \u001b[39mKeyError\u001b[39;00m(key) \u001b[39mfrom\u001b[39;00m \u001b[39merr\u001b[39;00m\n\u001b[0;32m   3798\u001b[0m \u001b[39mexcept\u001b[39;00m \u001b[39mTypeError\u001b[39;00m:\n\u001b[0;32m   3799\u001b[0m     \u001b[39m# If we have a listlike key, _check_indexing_error will raise\u001b[39;00m\n\u001b[0;32m   3800\u001b[0m     \u001b[39m#  InvalidIndexError. Otherwise we fall through and re-raise\u001b[39;00m\n\u001b[0;32m   3801\u001b[0m     \u001b[39m#  the TypeError.\u001b[39;00m\n\u001b[0;32m   3802\u001b[0m     \u001b[39mself\u001b[39m\u001b[39m.\u001b[39m_check_indexing_error(key)\n",
      "\u001b[1;31mKeyError\u001b[0m: 'movieId'"
     ]
    }
   ],
   "source": [
    "import pandas as pd\n",
    "\n",
    "# Load MovieLens 100k dataset\n",
    "movie_lens_data = pd.read_csv(\"ratings_Beauty.csv\")\n",
    "\n",
    "# Enumerate columns\n",
    "print(\"Columns:\", movie_lens_data.columns)\n",
    "\n",
    "# Number of users, items, ratings\n",
    "num_users = movie_lens_data[\"UserId\"].nunique()\n",
    "num_items = movie_lens_data[\"movieId\"].nunique()\n",
    "num_ratings = len(movie_lens_data)\n",
    "print(\n",
    "    f\"Number of users: {num_users}, Number of items: {num_items}, Number of ratings: {num_ratings}\"\n",
    ")\n",
    "\n",
    "# Number of ratings per user and item\n",
    "ratings_per_user = movie_lens_data.groupby(\"userId\")[\"rating\"].count()\n",
    "ratings_per_item = movie_lens_data.groupby(\"movieId\")[\"rating\"].count()\n",
    "\n",
    "# Average number of ratings per user and item\n",
    "avg_ratings_per_user = ratings_per_user.mean()\n",
    "avg_ratings_per_item = ratings_per_item.mean()\n",
    "\n",
    "print(f\"Average ratings per user: {avg_ratings_per_user:.2f}\")\n",
    "print(f\"Average ratings per item: {avg_ratings_per_item:.2f}\")"
   ]
  },
  {
   "cell_type": "code",
   "execution_count": null,
   "metadata": {},
   "outputs": [],
   "source": [
    "import numpy as np\n",
    "\n",
    "\n",
    "def RSelection(data, p):\n",
    "    return data.sample(frac=p, random_state=42)\n",
    "\n",
    "\n",
    "# Example usage\n",
    "subset = RSelection(movie_lens_data, 0.2)"
   ]
  },
  {
   "cell_type": "code",
   "execution_count": null,
   "metadata": {},
   "outputs": [],
   "source": [
    "from sklearn.model_selection import KFold\n",
    "\n",
    "k = 5  # Number of folds\n",
    "kf = KFold(n_splits=k, shuffle=True, random_state=42)\n",
    "\n",
    "for train_index, test_index in kf.split(movie_lens_data):\n",
    "    train_data, test_data = (\n",
    "        movie_lens_data.iloc[train_index],\n",
    "        movie_lens_data.iloc[test_index],\n",
    "    )\n",
    "    # Use train_data for training and test_data for testing"
   ]
  },
  {
   "cell_type": "code",
   "execution_count": null,
   "metadata": {},
   "outputs": [],
   "source": [
    "from sklearn.model_selection import StratifiedShuffleSplit\n",
    "\n",
    "sss = StratifiedShuffleSplit(n_splits=1, test_size=0.2, random_state=42)\n",
    "\n",
    "for train_index, test_index in sss.split(movie_lens_data, movie_lens_data[\"rating\"]):\n",
    "    train_data_stratified, test_data_stratified = (\n",
    "        movie_lens_data.iloc[train_index],\n",
    "        movie_lens_data.iloc[test_index],\n",
    "    )\n",
    "    # Use train_data_stratified for training and test_data_stratified for testing"
   ]
  },
  {
   "cell_type": "code",
   "execution_count": null,
   "metadata": {},
   "outputs": [],
   "source": [
    "def bootstrap(data, num_samples, sample_size):\n",
    "    bootstrap_samples = []\n",
    "    for _ in range(num_samples):\n",
    "        bootstrap_sample = data.sample(n=sample_size, replace=True, random_state=42)\n",
    "        bootstrap_samples.append(bootstrap_sample)\n",
    "    return bootstrap_samples\n",
    "\n",
    "\n",
    "# Example usage\n",
    "bootstrapped_samples = bootstrap(movie_lens_data, num_samples=100, sample_size=500)"
   ]
  },
  {
   "cell_type": "code",
   "execution_count": null,
   "metadata": {},
   "outputs": [],
   "source": [
    "import seaborn as sns\n",
    "import matplotlib.pyplot as plt\n",
    "\n",
    "# Box plot\n",
    "sns.boxplot(x=\"userId\", y=\"rating\", data=train_data_stratified)\n",
    "plt.show()\n",
    "\n",
    "# Histogram\n",
    "plt.hist(\n",
    "    train_data_stratified[\"rating\"],\n",
    "    bins=[0.5, 1.5, 2.5, 3.5, 4.5, 5.5],\n",
    "    edgecolor=\"black\",\n",
    ")\n",
    "plt.xlabel(\"Rating\")\n",
    "plt.ylabel(\"Frequency\")\n",
    "plt.show()"
   ]
  }
 ],
 "metadata": {
  "kernelspec": {
   "display_name": "Python 3",
   "language": "python",
   "name": "python3"
  },
  "language_info": {
   "codemirror_mode": {
    "name": "ipython",
    "version": 3
   },
   "file_extension": ".py",
   "mimetype": "text/x-python",
   "name": "python",
   "nbconvert_exporter": "python",
   "pygments_lexer": "ipython3",
   "version": "3.12.0"
  }
 },
 "nbformat": 4,
 "nbformat_minor": 2
}
