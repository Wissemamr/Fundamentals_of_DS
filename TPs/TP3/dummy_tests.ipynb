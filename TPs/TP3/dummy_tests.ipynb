{
 "cells": [
  {
   "cell_type": "code",
   "execution_count": 15,
   "metadata": {},
   "outputs": [
    {
     "name": "stdout",
     "output_type": "stream",
     "text": [
      "[1.0, 1.4142135623730951, 1.7320508075688772, 2.0, 2.23606797749979, 2.449489742783178, 2.6457513110645907, 2.8284271247461903, 3.0, 3.1622776601683795]\n",
      "\n",
      "-53\n"
     ]
    }
   ],
   "source": [
    "from functools import reduce\n",
    "# Map function\n",
    "def get_sqrt(x):\n",
    "    return x**0.5\n",
    "\n",
    "\n",
    "nums_list = [1, 2, 3, 4, 5, 6, 7, 8, 9, 10]\n",
    "# Map function map(function, iterable)\n",
    "\n",
    "res = list(map(get_sqrt, nums_list))\n",
    "print(res)\n",
    "res_ =reduce(lambda x, y: x-y, nums_list)\n",
    "print()\n",
    "print(res_)"
   ]
  }
 ],
 "metadata": {
  "kernelspec": {
   "display_name": "Python 3",
   "language": "python",
   "name": "python3"
  },
  "language_info": {
   "codemirror_mode": {
    "name": "ipython",
    "version": 3
   },
   "file_extension": ".py",
   "mimetype": "text/x-python",
   "name": "python",
   "nbconvert_exporter": "python",
   "pygments_lexer": "ipython3",
   "version": "3.12.0"
  }
 },
 "nbformat": 4,
 "nbformat_minor": 2
}
