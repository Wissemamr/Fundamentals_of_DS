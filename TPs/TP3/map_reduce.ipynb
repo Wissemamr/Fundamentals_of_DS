{
 "cells": [
  {
   "cell_type": "code",
   "execution_count": 26,
   "metadata": {},
   "outputs": [
    {
     "name": "stdout",
     "output_type": "stream",
     "text": [
      "Requirement already satisfied: nltk in c:\\users\\pc caba dz\\appdata\\local\\programs\\python\\python312\\lib\\site-packages (3.8.1)\n",
      "Requirement already satisfied: click in c:\\users\\pc caba dz\\appdata\\local\\programs\\python\\python312\\lib\\site-packages (from nltk) (8.1.7)\n",
      "Requirement already satisfied: joblib in c:\\users\\pc caba dz\\appdata\\local\\programs\\python\\python312\\lib\\site-packages (from nltk) (1.3.2)\n",
      "Requirement already satisfied: regex>=2021.8.3 in c:\\users\\pc caba dz\\appdata\\local\\programs\\python\\python312\\lib\\site-packages (from nltk) (2023.10.3)\n",
      "Requirement already satisfied: tqdm in c:\\users\\pc caba dz\\appdata\\local\\programs\\python\\python312\\lib\\site-packages (from nltk) (4.66.1)\n",
      "Requirement already satisfied: colorama in c:\\users\\pc caba dz\\appdata\\local\\programs\\python\\python312\\lib\\site-packages (from click->nltk) (0.4.6)\n",
      "Note: you may need to restart the kernel to use updated packages.\n"
     ]
    },
    {
     "name": "stderr",
     "output_type": "stream",
     "text": [
      "\n",
      "[notice] A new release of pip is available: 23.2.1 -> 23.3.1\n",
      "[notice] To update, run: python.exe -m pip install --upgrade pip\n"
     ]
    }
   ],
   "source": [
    "%pip install nltk"
   ]
  },
  {
   "cell_type": "code",
   "execution_count": 47,
   "metadata": {},
   "outputs": [
    {
     "name": "stdout",
     "output_type": "stream",
     "text": [
      "<class 'tuple'>\n",
      "<class 'int'>\n"
     ]
    }
   ],
   "source": [
    "from functools import reduce\n",
    "from nltk.tokenize import word_tokenize\n",
    "import nltk\n",
    "\n",
    "\n",
    "# Sample input data (list of sentences)\n",
    "input_data = [\n",
    "    \"MapReduce is a programming model\",\n",
    "    \"It is used for processing and generating large datasets\",\n",
    "    \"The MapReduce model involves two main steps: Map and Reduce\",\n",
    "]\n",
    "\n",
    "\n",
    "# Step 1: Map - Extract words from each sentence\n",
    "def mapper(sentence):\n",
    "    words = word_tokenize(sentence)  # Tokenize the sentence\n",
    "    return [(word, 1) for word in words]  # Return a list of (word, 1) pairs\n",
    "\n",
    "mapped_data = list(map(mapper, input_data))\n",
    "print(type(mapped_data[0][0]))\n",
    "print(type(mapper(input_data[0])[0][1]))"
   ]
  },
  {
   "cell_type": "code",
   "execution_count": 41,
   "metadata": {},
   "outputs": [
    {
     "name": "stdout",
     "output_type": "stream",
     "text": [
      "[('MapReduce', 1), ('is', 1), ('a', 1), ('programming', 1), ('model', 1), ('It', 1), ('is', 1), ('used', 1), ('for', 1), ('processing', 1), ('and', 1), ('generating', 1), ('large', 1), ('datasets', 1), ('The', 1), ('MapReduce', 1), ('model', 1), ('involves', 1), ('two', 1), ('main', 1), ('steps', 1), (':', 1), ('Map', 1), ('and', 1), ('Reduce', 1)]\n",
      "<class 'dict'>\n",
      "<class 'dict'>\n",
      "<class 'dict'>\n",
      "<class 'dict'>\n",
      "<class 'dict'>\n",
      "<class 'dict'>\n",
      "<class 'dict'>\n",
      "<class 'dict'>\n",
      "<class 'dict'>\n",
      "<class 'dict'>\n",
      "<class 'dict'>\n",
      "<class 'dict'>\n",
      "<class 'dict'>\n",
      "<class 'dict'>\n",
      "<class 'dict'>\n",
      "<class 'dict'>\n",
      "<class 'dict'>\n",
      "<class 'dict'>\n",
      "<class 'dict'>\n",
      "<class 'dict'>\n",
      "<class 'dict'>\n",
      "<class 'dict'>\n",
      "<class 'dict'>\n",
      "<class 'dict'>\n",
      "<class 'dict'>\n",
      "{'MapReduce': 2, 'is': 2, 'a': 1, 'programming': 1, 'model': 2, 'It': 1, 'used': 1, 'for': 1, 'processing': 1, 'and': 2, 'generating': 1, 'large': 1, 'datasets': 1, 'The': 1, 'involves': 1, 'two': 1, 'main': 1, 'steps': 1, ':': 1, 'Map': 1, 'Reduce': 1}\n"
     ]
    }
   ],
   "source": [
    "# Step 2: Reduce - Sum up the counts for each word\n",
    "def reducer(word_counts, word_count):\n",
    "    print(type(word_counts))\n",
    "    word, count = word_count\n",
    "    word_counts[word] = word_counts.get(word, 0) + count\n",
    "    return word_counts\n",
    "\n",
    "\n",
    "flattened_data = reduce(lambda x, y: x + y, mapped_data)\n",
    "print(flattened_data)\n",
    "word_count_result = reduce(reducer, flattened_data, {})\n",
    "print(word_count_result)"
   ]
  },
  {
   "cell_type": "markdown",
   "metadata": {},
   "source": [
    "- map : applies a function element-wise to an iterable and returns a new iterable with the results.\n",
    "- reduce : applies a function cumulatively to the items of an iterable, reducing it to a single accumulated result."
   ]
  }
 ],
 "metadata": {
  "kernelspec": {
   "display_name": "Python 3",
   "language": "python",
   "name": "python3"
  },
  "language_info": {
   "codemirror_mode": {
    "name": "ipython",
    "version": 3
   },
   "file_extension": ".py",
   "mimetype": "text/x-python",
   "name": "python",
   "nbconvert_exporter": "python",
   "pygments_lexer": "ipython3",
   "version": "3.12.0"
  }
 },
 "nbformat": 4,
 "nbformat_minor": 2
}
